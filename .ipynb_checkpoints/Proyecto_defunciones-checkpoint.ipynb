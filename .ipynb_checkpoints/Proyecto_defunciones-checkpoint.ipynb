{
 "cells": [
  {
   "cell_type": "markdown",
   "id": "27dfd5dc",
   "metadata": {},
   "source": [
    "# Proyecto 4 - Análisis de defunciones Estado de México 2022\n",
    "\n",
    "### Importar datasets"
   ]
  },
  {
   "cell_type": "code",
   "execution_count": 612,
   "id": "9671a839",
   "metadata": {
    "scrolled": true
   },
   "outputs": [],
   "source": [
    "import pandas as pd\n",
    "import numpy as np\n",
    "import matplotlib.pyplot as plt\n",
    "from sklearn.preprocessing import LabelEncoder\n",
    "from sklearn.cluster import KMeans\n",
    "from sklearn.model_selection import train_test_split\n",
    "from sklearn.linear_model import LinearRegression\n",
    "from sklearn.metrics import mean_squared_error\n",
    "from sklearn.preprocessing import PolynomialFeatures\n",
    "from sklearn.model_selection import train_test_split\n",
    "from scipy import stats\n",
    "import seaborn as sns\n",
    "from sklearn.metrics import r2_score\n",
    "\n",
    "\n",
    "#import MLUtilities.py as utils"
   ]
  },
  {
   "cell_type": "code",
   "execution_count": 613,
   "id": "e0e65c9f",
   "metadata": {},
   "outputs": [
    {
     "data": {
      "text/html": [
       "<div>\n",
       "<style scoped>\n",
       "    .dataframe tbody tr th:only-of-type {\n",
       "        vertical-align: middle;\n",
       "    }\n",
       "\n",
       "    .dataframe tbody tr th {\n",
       "        vertical-align: top;\n",
       "    }\n",
       "\n",
       "    .dataframe thead th {\n",
       "        text-align: right;\n",
       "    }\n",
       "</style>\n",
       "<table border=\"1\" class=\"dataframe\">\n",
       "  <thead>\n",
       "    <tr style=\"text-align: right;\">\n",
       "      <th></th>\n",
       "      <th>SEXOD</th>\n",
       "      <th>EDAD</th>\n",
       "      <th>ESTADOCONYUGALD</th>\n",
       "      <th>ESCOLARIDADD</th>\n",
       "      <th>CLAVEOCUPACIONHABITUALD</th>\n",
       "      <th>TRABAJAACTUALMENTED</th>\n",
       "      <th>AFILIACIOND</th>\n",
       "      <th>SITIODEFUNCIOND</th>\n",
       "      <th>MUNICIPIODEFUNCIOND</th>\n",
       "      <th>LOCALIDADDEFUNCIOND</th>\n",
       "      <th>CODIGOPOSTALDEFUNCION</th>\n",
       "      <th>JURISDICCIONDEFUNCIOND</th>\n",
       "      <th>FECHADEFUNCION</th>\n",
       "      <th>HORADEFUNCION</th>\n",
       "      <th>MUERTEACCIDENTALVIOLENTAD</th>\n",
       "      <th>CIECAUSABASICA</th>\n",
       "      <th>CIECAUSABASICAD</th>\n",
       "    </tr>\n",
       "  </thead>\n",
       "  <tbody>\n",
       "    <tr>\n",
       "      <th>0</th>\n",
       "      <td>MUJER</td>\n",
       "      <td>66</td>\n",
       "      <td>CASADO(A)</td>\n",
       "      <td>SECUNDARIA COMPLETA</td>\n",
       "      <td>NO REMUNERADO, AMA DE CASA</td>\n",
       "      <td>NO</td>\n",
       "      <td>IMSS</td>\n",
       "      <td>IMSS</td>\n",
       "      <td>ECATEPEC DE MORELOS</td>\n",
       "      <td>ECATEPEC DE MORELOS</td>\n",
       "      <td>55400</td>\n",
       "      <td>ECATEPEC</td>\n",
       "      <td>1/9/22</td>\n",
       "      <td>15:15</td>\n",
       "      <td>NO</td>\n",
       "      <td>J189</td>\n",
       "      <td>NEUMONÍA, NO ESPECIFICADA</td>\n",
       "    </tr>\n",
       "    <tr>\n",
       "      <th>1</th>\n",
       "      <td>HOMBRE</td>\n",
       "      <td>72</td>\n",
       "      <td>UNION LIBRE</td>\n",
       "      <td>SECUNDARIA COMPLETA</td>\n",
       "      <td>NO OCUPADO, JUBILADO O PENSIONADO</td>\n",
       "      <td>NO</td>\n",
       "      <td>IMSS</td>\n",
       "      <td>HOGAR</td>\n",
       "      <td>LA PAZ</td>\n",
       "      <td>NO ESPECIFICADO</td>\n",
       "      <td>56524</td>\n",
       "      <td>NEZAHUALCÓYOTL</td>\n",
       "      <td>1/10/22</td>\n",
       "      <td>14:30</td>\n",
       "      <td>NO</td>\n",
       "      <td>E117</td>\n",
       "      <td>DIABETES MELLITUS TIPO 2, CON COMPLICACIONES M...</td>\n",
       "    </tr>\n",
       "    <tr>\n",
       "      <th>2</th>\n",
       "      <td>MUJER</td>\n",
       "      <td>89</td>\n",
       "      <td>VIUDO(A)</td>\n",
       "      <td>PRIMARIA INCOMPLETA</td>\n",
       "      <td>NO REMUNERADO, AMA DE CASA</td>\n",
       "      <td>NO</td>\n",
       "      <td>IMSS</td>\n",
       "      <td>HOGAR</td>\n",
       "      <td>ATIZAPÁN DE ZARAGOZA</td>\n",
       "      <td>CIUDAD LOPEZ MATEOS</td>\n",
       "      <td>52940</td>\n",
       "      <td>ATIZAPÁN DE ZARAGOZA</td>\n",
       "      <td>8/20/22</td>\n",
       "      <td>9:15</td>\n",
       "      <td>NO</td>\n",
       "      <td>E116</td>\n",
       "      <td>DIABETES MELLITUS TIPO 2, CON OTRAS COMPLICACI...</td>\n",
       "    </tr>\n",
       "    <tr>\n",
       "      <th>3</th>\n",
       "      <td>HOMBRE</td>\n",
       "      <td>53</td>\n",
       "      <td>CASADO(A)</td>\n",
       "      <td>PRIMARIA INCOMPLETA</td>\n",
       "      <td>TRABAJADORES EN ACTIVIDADES AGRÍCOLAS Y GANADERAS</td>\n",
       "      <td>SI</td>\n",
       "      <td>SE IGNORA</td>\n",
       "      <td>UNIDAD MEDICA PRIVADA</td>\n",
       "      <td>TOLUCA</td>\n",
       "      <td>TOLUCA DE LERDO</td>\n",
       "      <td>50040</td>\n",
       "      <td>TOLUCA</td>\n",
       "      <td>2/9/22</td>\n",
       "      <td>19:15</td>\n",
       "      <td>NO</td>\n",
       "      <td>I609</td>\n",
       "      <td>HEMORRAGIA SUBARACNOIDEA, NO ESPECIFICADA</td>\n",
       "    </tr>\n",
       "    <tr>\n",
       "      <th>4</th>\n",
       "      <td>HOMBRE</td>\n",
       "      <td>82</td>\n",
       "      <td>CASADO(A)</td>\n",
       "      <td>PRIMARIA INCOMPLETA</td>\n",
       "      <td>COMERCIANTES EN ESTABLECIMIENTOS</td>\n",
       "      <td>SI</td>\n",
       "      <td>NINGUNA</td>\n",
       "      <td>HOGAR</td>\n",
       "      <td>IXTLAHUACA</td>\n",
       "      <td>BARRIO SAN JOAQUIN LA CABECERA</td>\n",
       "      <td>50740</td>\n",
       "      <td>IXTLAHUACA</td>\n",
       "      <td>2/13/22</td>\n",
       "      <td>6:30</td>\n",
       "      <td>NO</td>\n",
       "      <td>I219</td>\n",
       "      <td>INFARTO AGUDO DEL MIOCARDIO, SIN OTRA ESPECIFI...</td>\n",
       "    </tr>\n",
       "  </tbody>\n",
       "</table>\n",
       "</div>"
      ],
      "text/plain": [
       "    SEXOD  EDAD ESTADOCONYUGALD         ESCOLARIDADD  \\\n",
       "0   MUJER    66       CASADO(A)  SECUNDARIA COMPLETA   \n",
       "1  HOMBRE    72     UNION LIBRE  SECUNDARIA COMPLETA   \n",
       "2   MUJER    89        VIUDO(A)  PRIMARIA INCOMPLETA   \n",
       "3  HOMBRE    53       CASADO(A)  PRIMARIA INCOMPLETA   \n",
       "4  HOMBRE    82       CASADO(A)  PRIMARIA INCOMPLETA   \n",
       "\n",
       "                             CLAVEOCUPACIONHABITUALD TRABAJAACTUALMENTED  \\\n",
       "0                         NO REMUNERADO, AMA DE CASA                  NO   \n",
       "1                  NO OCUPADO, JUBILADO O PENSIONADO                  NO   \n",
       "2                         NO REMUNERADO, AMA DE CASA                  NO   \n",
       "3  TRABAJADORES EN ACTIVIDADES AGRÍCOLAS Y GANADERAS                  SI   \n",
       "4                   COMERCIANTES EN ESTABLECIMIENTOS                  SI   \n",
       "\n",
       "  AFILIACIOND        SITIODEFUNCIOND   MUNICIPIODEFUNCIOND  \\\n",
       "0        IMSS                   IMSS   ECATEPEC DE MORELOS   \n",
       "1        IMSS                  HOGAR                LA PAZ   \n",
       "2        IMSS                  HOGAR  ATIZAPÁN DE ZARAGOZA   \n",
       "3   SE IGNORA  UNIDAD MEDICA PRIVADA                TOLUCA   \n",
       "4     NINGUNA                  HOGAR            IXTLAHUACA   \n",
       "\n",
       "              LOCALIDADDEFUNCIOND  CODIGOPOSTALDEFUNCION  \\\n",
       "0             ECATEPEC DE MORELOS                  55400   \n",
       "1                 NO ESPECIFICADO                  56524   \n",
       "2             CIUDAD LOPEZ MATEOS                  52940   \n",
       "3                 TOLUCA DE LERDO                  50040   \n",
       "4  BARRIO SAN JOAQUIN LA CABECERA                  50740   \n",
       "\n",
       "  JURISDICCIONDEFUNCIOND FECHADEFUNCION HORADEFUNCION  \\\n",
       "0               ECATEPEC         1/9/22         15:15   \n",
       "1         NEZAHUALCÓYOTL        1/10/22         14:30   \n",
       "2   ATIZAPÁN DE ZARAGOZA        8/20/22          9:15   \n",
       "3                 TOLUCA         2/9/22         19:15   \n",
       "4             IXTLAHUACA        2/13/22          6:30   \n",
       "\n",
       "  MUERTEACCIDENTALVIOLENTAD CIECAUSABASICA  \\\n",
       "0                        NO           J189   \n",
       "1                        NO           E117   \n",
       "2                        NO           E116   \n",
       "3                        NO           I609   \n",
       "4                        NO           I219   \n",
       "\n",
       "                                     CIECAUSABASICAD  \n",
       "0                          NEUMONÍA, NO ESPECIFICADA  \n",
       "1  DIABETES MELLITUS TIPO 2, CON COMPLICACIONES M...  \n",
       "2  DIABETES MELLITUS TIPO 2, CON OTRAS COMPLICACI...  \n",
       "3          HEMORRAGIA SUBARACNOIDEA, NO ESPECIFICADA  \n",
       "4  INFARTO AGUDO DEL MIOCARDIO, SIN OTRA ESPECIFI...  "
      ]
     },
     "execution_count": 613,
     "metadata": {},
     "output_type": "execute_result"
    }
   ],
   "source": [
    "df = 'BASE_2022_DEF.csv'\n",
    "df = pd.read_csv(df)\n",
    "df.head()"
   ]
  },
  {
   "cell_type": "code",
   "execution_count": 614,
   "id": "f2aba09c",
   "metadata": {},
   "outputs": [
    {
     "name": "stdout",
     "output_type": "stream",
     "text": [
      "90117\n"
     ]
    }
   ],
   "source": [
    "numero_de_filas = len(df)\n",
    "print(numero_de_filas)"
   ]
  },
  {
   "cell_type": "code",
   "execution_count": 615,
   "id": "a61e294a",
   "metadata": {},
   "outputs": [
    {
     "data": {
      "text/plain": [
       "SEXOD                        0\n",
       "EDAD                         0\n",
       "ESTADOCONYUGALD              0\n",
       "ESCOLARIDADD                 0\n",
       "CLAVEOCUPACIONHABITUALD      0\n",
       "TRABAJAACTUALMENTED          0\n",
       "AFILIACIOND                  0\n",
       "SITIODEFUNCIOND              0\n",
       "MUNICIPIODEFUNCIOND          0\n",
       "LOCALIDADDEFUNCIOND          0\n",
       "CODIGOPOSTALDEFUNCION        0\n",
       "JURISDICCIONDEFUNCIOND       0\n",
       "FECHADEFUNCION               0\n",
       "HORADEFUNCION                0\n",
       "MUERTEACCIDENTALVIOLENTAD    0\n",
       "CIECAUSABASICA               0\n",
       "CIECAUSABASICAD              0\n",
       "dtype: int64"
      ]
     },
     "execution_count": 615,
     "metadata": {},
     "output_type": "execute_result"
    }
   ],
   "source": [
    "df.isnull().sum()"
   ]
  },
  {
   "cell_type": "code",
   "execution_count": 616,
   "id": "aba9c3e7",
   "metadata": {},
   "outputs": [
    {
     "data": {
      "text/plain": [
       "SEXOD                        0\n",
       "EDAD                         0\n",
       "ESTADOCONYUGALD              0\n",
       "ESCOLARIDADD                 0\n",
       "CLAVEOCUPACIONHABITUALD      0\n",
       "TRABAJAACTUALMENTED          0\n",
       "AFILIACIOND                  0\n",
       "SITIODEFUNCIOND              0\n",
       "MUNICIPIODEFUNCIOND          0\n",
       "LOCALIDADDEFUNCIOND          0\n",
       "CODIGOPOSTALDEFUNCION        0\n",
       "JURISDICCIONDEFUNCIOND       0\n",
       "FECHADEFUNCION               0\n",
       "HORADEFUNCION                0\n",
       "MUERTEACCIDENTALVIOLENTAD    0\n",
       "CIECAUSABASICA               0\n",
       "CIECAUSABASICAD              0\n",
       "dtype: int64"
      ]
     },
     "execution_count": 616,
     "metadata": {},
     "output_type": "execute_result"
    }
   ],
   "source": [
    "df.isna().sum()"
   ]
  },
  {
   "cell_type": "markdown",
   "id": "aa66222f",
   "metadata": {},
   "source": [
    "### Limpieza de datos"
   ]
  },
  {
   "cell_type": "code",
   "execution_count": 617,
   "id": "e86a0c54",
   "metadata": {},
   "outputs": [
    {
     "data": {
      "text/plain": [
       "Index(['sexod', 'edad', 'estadoconyugald', 'escolaridadd',\n",
       "       'claveocupacionhabituald', 'trabajaactualmented', 'afiliaciond',\n",
       "       'sitiodefunciond', 'municipiodefunciond', 'localidaddefunciond',\n",
       "       'codigopostaldefuncion', 'jurisdicciondefunciond', 'fechadefuncion',\n",
       "       'horadefuncion', 'muerteaccidentalviolentad', 'ciecausabasica',\n",
       "       'ciecausabasicad'],\n",
       "      dtype='object')"
      ]
     },
     "execution_count": 617,
     "metadata": {},
     "output_type": "execute_result"
    }
   ],
   "source": [
    "df.columns = df.columns.str.lower()\n",
    "df.columns"
   ]
  },
  {
   "cell_type": "code",
   "execution_count": 618,
   "id": "788bd7c6",
   "metadata": {},
   "outputs": [
    {
     "name": "stdout",
     "output_type": "stream",
     "text": [
      "<class 'pandas.core.frame.DataFrame'>\n",
      "RangeIndex: 90117 entries, 0 to 90116\n",
      "Data columns (total 17 columns):\n",
      " #   Column                     Non-Null Count  Dtype \n",
      "---  ------                     --------------  ----- \n",
      " 0   sexod                      90117 non-null  object\n",
      " 1   edad                       90117 non-null  int64 \n",
      " 2   estadoconyugald            90117 non-null  object\n",
      " 3   escolaridadd               90117 non-null  object\n",
      " 4   claveocupacionhabituald    90117 non-null  object\n",
      " 5   trabajaactualmented        90117 non-null  object\n",
      " 6   afiliaciond                90117 non-null  object\n",
      " 7   sitiodefunciond            90117 non-null  object\n",
      " 8   municipiodefunciond        90117 non-null  object\n",
      " 9   localidaddefunciond        90117 non-null  object\n",
      " 10  codigopostaldefuncion      90117 non-null  int64 \n",
      " 11  jurisdicciondefunciond     90117 non-null  object\n",
      " 12  fechadefuncion             90117 non-null  object\n",
      " 13  horadefuncion              90117 non-null  object\n",
      " 14  muerteaccidentalviolentad  90117 non-null  object\n",
      " 15  ciecausabasica             90117 non-null  object\n",
      " 16  ciecausabasicad            90117 non-null  object\n",
      "dtypes: int64(2), object(15)\n",
      "memory usage: 11.7+ MB\n"
     ]
    }
   ],
   "source": [
    "df.info()"
   ]
  },
  {
   "cell_type": "markdown",
   "id": "ba6a51d7",
   "metadata": {},
   "source": [
    "✅ Revisamos las columnas y convertimos a los tipos de dato más convenientes."
   ]
  },
  {
   "cell_type": "code",
   "execution_count": 619,
   "id": "044022fe",
   "metadata": {},
   "outputs": [],
   "source": [
    "columnas_a_convertir = ['sexod', 'estadoconyugald', 'escolaridadd', 'trabajaactualmented', 'afiliaciond', 'muerteaccidentalviolentad']\n",
    "df[columnas_a_convertir] = df[columnas_a_convertir].astype('category')"
   ]
  },
  {
   "cell_type": "code",
   "execution_count": 620,
   "id": "02f0c4a3",
   "metadata": {},
   "outputs": [],
   "source": [
    "df['codigopostaldefuncion'] = df['codigopostaldefuncion'].astype(str)"
   ]
  },
  {
   "cell_type": "code",
   "execution_count": 621,
   "id": "ddc66ea3",
   "metadata": {},
   "outputs": [],
   "source": [
    "df['fechadefuncion'] = pd.to_datetime(df['fechadefuncion'], format='%m/%d/%y', errors='coerce')"
   ]
  },
  {
   "cell_type": "code",
   "execution_count": 622,
   "id": "9af47b9c",
   "metadata": {},
   "outputs": [],
   "source": [
    "df['horadefuncion'] = pd.to_datetime(df['horadefuncion'], format='%H:%M', errors='coerce').dt.time"
   ]
  },
  {
   "cell_type": "code",
   "execution_count": 623,
   "id": "87ec79a2",
   "metadata": {},
   "outputs": [],
   "source": [
    "df['Timestamp'] = pd.to_datetime(df['fechadefuncion'].astype(str) + ' ' + df['horadefuncion'].astype(str), errors='coerce')"
   ]
  },
  {
   "cell_type": "code",
   "execution_count": 624,
   "id": "3bf1ed32",
   "metadata": {},
   "outputs": [
    {
     "name": "stdout",
     "output_type": "stream",
     "text": [
      "<class 'pandas.core.frame.DataFrame'>\n",
      "RangeIndex: 90117 entries, 0 to 90116\n",
      "Data columns (total 18 columns):\n",
      " #   Column                     Non-Null Count  Dtype         \n",
      "---  ------                     --------------  -----         \n",
      " 0   sexod                      90117 non-null  category      \n",
      " 1   edad                       90117 non-null  int64         \n",
      " 2   estadoconyugald            90117 non-null  category      \n",
      " 3   escolaridadd               90117 non-null  category      \n",
      " 4   claveocupacionhabituald    90117 non-null  object        \n",
      " 5   trabajaactualmented        90117 non-null  category      \n",
      " 6   afiliaciond                90117 non-null  category      \n",
      " 7   sitiodefunciond            90117 non-null  object        \n",
      " 8   municipiodefunciond        90117 non-null  object        \n",
      " 9   localidaddefunciond        90117 non-null  object        \n",
      " 10  codigopostaldefuncion      90117 non-null  object        \n",
      " 11  jurisdicciondefunciond     90117 non-null  object        \n",
      " 12  fechadefuncion             90117 non-null  datetime64[ns]\n",
      " 13  horadefuncion              88462 non-null  object        \n",
      " 14  muerteaccidentalviolentad  90117 non-null  category      \n",
      " 15  ciecausabasica             90117 non-null  object        \n",
      " 16  ciecausabasicad            90117 non-null  object        \n",
      " 17  Timestamp                  88462 non-null  datetime64[ns]\n",
      "dtypes: category(6), datetime64[ns](2), int64(1), object(9)\n",
      "memory usage: 8.8+ MB\n"
     ]
    }
   ],
   "source": [
    "df.info()"
   ]
  },
  {
   "cell_type": "code",
   "execution_count": 625,
   "id": "23a270b6",
   "metadata": {
    "scrolled": true
   },
   "outputs": [
    {
     "data": {
      "text/html": [
       "<div>\n",
       "<style scoped>\n",
       "    .dataframe tbody tr th:only-of-type {\n",
       "        vertical-align: middle;\n",
       "    }\n",
       "\n",
       "    .dataframe tbody tr th {\n",
       "        vertical-align: top;\n",
       "    }\n",
       "\n",
       "    .dataframe thead th {\n",
       "        text-align: right;\n",
       "    }\n",
       "</style>\n",
       "<table border=\"1\" class=\"dataframe\">\n",
       "  <thead>\n",
       "    <tr style=\"text-align: right;\">\n",
       "      <th></th>\n",
       "      <th>sexod</th>\n",
       "      <th>edad</th>\n",
       "      <th>estadoconyugald</th>\n",
       "      <th>escolaridadd</th>\n",
       "      <th>claveocupacionhabituald</th>\n",
       "      <th>trabajaactualmented</th>\n",
       "      <th>afiliaciond</th>\n",
       "      <th>sitiodefunciond</th>\n",
       "      <th>municipiodefunciond</th>\n",
       "      <th>localidaddefunciond</th>\n",
       "      <th>codigopostaldefuncion</th>\n",
       "      <th>jurisdicciondefunciond</th>\n",
       "      <th>fechadefuncion</th>\n",
       "      <th>horadefuncion</th>\n",
       "      <th>muerteaccidentalviolentad</th>\n",
       "      <th>ciecausabasica</th>\n",
       "      <th>ciecausabasicad</th>\n",
       "      <th>Timestamp</th>\n",
       "    </tr>\n",
       "  </thead>\n",
       "  <tbody>\n",
       "    <tr>\n",
       "      <th>18941</th>\n",
       "      <td>HOMBRE</td>\n",
       "      <td>53</td>\n",
       "      <td>SOLTERO(A)</td>\n",
       "      <td>BACHILLERATO O PREPARATORIA COMPLETA</td>\n",
       "      <td>EMPLEADOS DE VENTAS EN ESTABLECIMIENTOS</td>\n",
       "      <td>NO</td>\n",
       "      <td>IMSS</td>\n",
       "      <td>HOGAR</td>\n",
       "      <td>ECATEPEC DE MORELOS</td>\n",
       "      <td>ECATEPEC DE MORELOS</td>\n",
       "      <td>55280</td>\n",
       "      <td>ECATEPEC</td>\n",
       "      <td>2022-03-08</td>\n",
       "      <td>02:50:00</td>\n",
       "      <td>NO</td>\n",
       "      <td>C189</td>\n",
       "      <td>TUMOR MALIGNO DEL COLON, PARTE NO ESPECIFICADA</td>\n",
       "      <td>2022-03-08 02:50:00</td>\n",
       "    </tr>\n",
       "    <tr>\n",
       "      <th>53107</th>\n",
       "      <td>HOMBRE</td>\n",
       "      <td>88</td>\n",
       "      <td>DIVORCIADO(A)</td>\n",
       "      <td>PRIMARIA INCOMPLETA</td>\n",
       "      <td>NO OCUPADOS</td>\n",
       "      <td>NO</td>\n",
       "      <td>NINGUNA</td>\n",
       "      <td>HOGAR</td>\n",
       "      <td>VALLE DE CHALCO SOLIDARIDAD</td>\n",
       "      <td>XICO</td>\n",
       "      <td>56615</td>\n",
       "      <td>AMECAMECA</td>\n",
       "      <td>2022-08-01</td>\n",
       "      <td>17:15:00</td>\n",
       "      <td>NO</td>\n",
       "      <td>C809</td>\n",
       "      <td>TUMOR MALIGNO, SITIO PRIMARIO NO ESPECIFICADO</td>\n",
       "      <td>2022-08-01 17:15:00</td>\n",
       "    </tr>\n",
       "    <tr>\n",
       "      <th>56706</th>\n",
       "      <td>HOMBRE</td>\n",
       "      <td>80</td>\n",
       "      <td>VIUDO(A)</td>\n",
       "      <td>PRIMARIA COMPLETA</td>\n",
       "      <td>CONDUCTORES DE TRANSPORTE Y DE MAQUINARIA MÓVIL</td>\n",
       "      <td>SI</td>\n",
       "      <td>NINGUNA</td>\n",
       "      <td>SECRETARIA DE SALUD</td>\n",
       "      <td>ECATEPEC DE MORELOS</td>\n",
       "      <td>ECATEPEC DE MORELOS</td>\n",
       "      <td>55076</td>\n",
       "      <td>ECATEPEC</td>\n",
       "      <td>2022-08-28</td>\n",
       "      <td>11:00:00</td>\n",
       "      <td>NO</td>\n",
       "      <td>C61X</td>\n",
       "      <td>TUMOR MALIGNO DE LA PRÓSTATA</td>\n",
       "      <td>2022-08-28 11:00:00</td>\n",
       "    </tr>\n",
       "    <tr>\n",
       "      <th>83811</th>\n",
       "      <td>HOMBRE</td>\n",
       "      <td>91</td>\n",
       "      <td>VIUDO(A)</td>\n",
       "      <td>NINGUNA</td>\n",
       "      <td>AYUDANTES EN LA PREPARACIÓN DE ALIMENTOS</td>\n",
       "      <td>NO</td>\n",
       "      <td>NINGUNA</td>\n",
       "      <td>HOGAR</td>\n",
       "      <td>TULTITLÁN</td>\n",
       "      <td>TULTITLAN DE MARIANO ESCOBEDO</td>\n",
       "      <td>54900</td>\n",
       "      <td>CUAUTITLÁN</td>\n",
       "      <td>2022-12-21</td>\n",
       "      <td>18:30:00</td>\n",
       "      <td>NO</td>\n",
       "      <td>I698</td>\n",
       "      <td>SECUELAS DE OTRAS ENFERMEDADES CEREBROVASCULAR...</td>\n",
       "      <td>2022-12-21 18:30:00</td>\n",
       "    </tr>\n",
       "    <tr>\n",
       "      <th>73784</th>\n",
       "      <td>MUJER</td>\n",
       "      <td>103</td>\n",
       "      <td>VIUDO(A)</td>\n",
       "      <td>NINGUNA</td>\n",
       "      <td>NO REMUNERADO, AMA DE CASA</td>\n",
       "      <td>NO</td>\n",
       "      <td>IMSS</td>\n",
       "      <td>HOGAR</td>\n",
       "      <td>TULTITLÁN</td>\n",
       "      <td>TULTITLAN DE MARIANO ESCOBEDO</td>\n",
       "      <td>54900</td>\n",
       "      <td>CUAUTITLÁN</td>\n",
       "      <td>2022-11-10</td>\n",
       "      <td>16:49:00</td>\n",
       "      <td>NO</td>\n",
       "      <td>I219</td>\n",
       "      <td>INFARTO AGUDO DEL MIOCARDIO, SIN OTRA ESPECIFI...</td>\n",
       "      <td>2022-11-10 16:49:00</td>\n",
       "    </tr>\n",
       "    <tr>\n",
       "      <th>69228</th>\n",
       "      <td>HOMBRE</td>\n",
       "      <td>33</td>\n",
       "      <td>SEPARADO(A)</td>\n",
       "      <td>BACHILLERATO O PREPARATORIA INCOMPLETA</td>\n",
       "      <td>OTROS OPERADORES DE MAQUINARIA INDUSTRIAL, ENS...</td>\n",
       "      <td>SI</td>\n",
       "      <td>NINGUNA</td>\n",
       "      <td>VÍA PÚBLICA</td>\n",
       "      <td>ALMOLOYA DE JUÁREZ</td>\n",
       "      <td>SAN ISIDRO (EL RESERVADO)</td>\n",
       "      <td>99999</td>\n",
       "      <td>TOLUCA</td>\n",
       "      <td>2022-09-27</td>\n",
       "      <td>19:20:00</td>\n",
       "      <td>SI</td>\n",
       "      <td>X590</td>\n",
       "      <td>EXPOSICIÓN A FACTORES NO ESPECIFICADOS, QUE CA...</td>\n",
       "      <td>2022-09-27 19:20:00</td>\n",
       "    </tr>\n",
       "    <tr>\n",
       "      <th>3002</th>\n",
       "      <td>MUJER</td>\n",
       "      <td>78</td>\n",
       "      <td>VIUDO(A)</td>\n",
       "      <td>NINGUNA</td>\n",
       "      <td>NO REMUNERADO, AMA DE CASA</td>\n",
       "      <td>NO</td>\n",
       "      <td>IMSS</td>\n",
       "      <td>HOGAR</td>\n",
       "      <td>NICOLÁS ROMERO</td>\n",
       "      <td>NO ESPECIFICADO</td>\n",
       "      <td>54409</td>\n",
       "      <td>ATIZAPÁN DE ZARAGOZA</td>\n",
       "      <td>2022-01-16</td>\n",
       "      <td>03:30:00</td>\n",
       "      <td>NO</td>\n",
       "      <td>E849</td>\n",
       "      <td>FIBROSIS QUÍSTICA, SIN OTRA ESPECIFICACIÓN</td>\n",
       "      <td>2022-01-16 03:30:00</td>\n",
       "    </tr>\n",
       "    <tr>\n",
       "      <th>60822</th>\n",
       "      <td>MUJER</td>\n",
       "      <td>70</td>\n",
       "      <td>VIUDO(A)</td>\n",
       "      <td>NINGUNA</td>\n",
       "      <td>NO REMUNERADO, AMA DE CASA</td>\n",
       "      <td>NO</td>\n",
       "      <td>NINGUNA</td>\n",
       "      <td>SECRETARIA DE SALUD</td>\n",
       "      <td>ECATEPEC DE MORELOS</td>\n",
       "      <td>ECATEPEC DE MORELOS</td>\n",
       "      <td>55210</td>\n",
       "      <td>ECATEPEC</td>\n",
       "      <td>2022-09-15</td>\n",
       "      <td>05:55:00</td>\n",
       "      <td>NO</td>\n",
       "      <td>J90X</td>\n",
       "      <td>DERRAME PLEURAL NO CLASIFICADO EN OTRA PARTE</td>\n",
       "      <td>2022-09-15 05:55:00</td>\n",
       "    </tr>\n",
       "    <tr>\n",
       "      <th>86702</th>\n",
       "      <td>MUJER</td>\n",
       "      <td>93</td>\n",
       "      <td>SOLTERO(A)</td>\n",
       "      <td>PRIMARIA INCOMPLETA</td>\n",
       "      <td>NO REMUNERADO, AMA DE CASA</td>\n",
       "      <td>NO</td>\n",
       "      <td>NINGUNA</td>\n",
       "      <td>HOGAR</td>\n",
       "      <td>JALTENCO</td>\n",
       "      <td>JALTENCO</td>\n",
       "      <td>55780</td>\n",
       "      <td>ZUMPANGO</td>\n",
       "      <td>2022-12-26</td>\n",
       "      <td>20:30:00</td>\n",
       "      <td>NO</td>\n",
       "      <td>I219</td>\n",
       "      <td>INFARTO AGUDO DEL MIOCARDIO, SIN OTRA ESPECIFI...</td>\n",
       "      <td>2022-12-26 20:30:00</td>\n",
       "    </tr>\n",
       "    <tr>\n",
       "      <th>70794</th>\n",
       "      <td>MUJER</td>\n",
       "      <td>58</td>\n",
       "      <td>CASADO(A)</td>\n",
       "      <td>SECUNDARIA COMPLETA</td>\n",
       "      <td>NO OCUPADOS</td>\n",
       "      <td>NO</td>\n",
       "      <td>IMSS</td>\n",
       "      <td>IMSS</td>\n",
       "      <td>ECATEPEC DE MORELOS</td>\n",
       "      <td>ECATEPEC DE MORELOS</td>\n",
       "      <td>55130</td>\n",
       "      <td>ECATEPEC</td>\n",
       "      <td>2022-11-01</td>\n",
       "      <td>13:20:00</td>\n",
       "      <td>NO</td>\n",
       "      <td>K650</td>\n",
       "      <td>PERITONITIS AGUDA</td>\n",
       "      <td>2022-11-01 13:20:00</td>\n",
       "    </tr>\n",
       "    <tr>\n",
       "      <th>26355</th>\n",
       "      <td>HOMBRE</td>\n",
       "      <td>90</td>\n",
       "      <td>CASADO(A)</td>\n",
       "      <td>PRIMARIA INCOMPLETA</td>\n",
       "      <td>TRABAJADORES EN ACTIVIDADES AGRÍCOLAS Y GANADERAS</td>\n",
       "      <td>NO</td>\n",
       "      <td>NINGUNA</td>\n",
       "      <td>HOGAR</td>\n",
       "      <td>OZUMBA</td>\n",
       "      <td>OZUMBA DE ALZATE</td>\n",
       "      <td>56800</td>\n",
       "      <td>AMECAMECA</td>\n",
       "      <td>2022-04-12</td>\n",
       "      <td>07:20:00</td>\n",
       "      <td>NO</td>\n",
       "      <td>I219</td>\n",
       "      <td>INFARTO AGUDO DEL MIOCARDIO, SIN OTRA ESPECIFI...</td>\n",
       "      <td>2022-04-12 07:20:00</td>\n",
       "    </tr>\n",
       "    <tr>\n",
       "      <th>53665</th>\n",
       "      <td>HOMBRE</td>\n",
       "      <td>89</td>\n",
       "      <td>CASADO(A)</td>\n",
       "      <td>LICENCIATURA O PROFESIONAL COMPLETO</td>\n",
       "      <td>OCUPACIONES NO ESPECIFICADAS</td>\n",
       "      <td>NO</td>\n",
       "      <td>ISSSTE</td>\n",
       "      <td>HOGAR</td>\n",
       "      <td>ECATEPEC DE MORELOS</td>\n",
       "      <td>ECATEPEC DE MORELOS</td>\n",
       "      <td>55450</td>\n",
       "      <td>ECATEPEC</td>\n",
       "      <td>2022-06-12</td>\n",
       "      <td>01:25:00</td>\n",
       "      <td>NO</td>\n",
       "      <td>E146</td>\n",
       "      <td>DIABETES MELLITUS NO ESPECIFICADA, CON OTRAS C...</td>\n",
       "      <td>2022-06-12 01:25:00</td>\n",
       "    </tr>\n",
       "    <tr>\n",
       "      <th>42124</th>\n",
       "      <td>HOMBRE</td>\n",
       "      <td>80</td>\n",
       "      <td>DIVORCIADO(A)</td>\n",
       "      <td>PRIMARIA INCOMPLETA</td>\n",
       "      <td>TRABAJADORES EN ACTIVIDADES AGRÍCOLAS Y GANADERAS</td>\n",
       "      <td>NO</td>\n",
       "      <td>NINGUNA</td>\n",
       "      <td>HOGAR</td>\n",
       "      <td>TONATICO</td>\n",
       "      <td>TONATICO</td>\n",
       "      <td>51950</td>\n",
       "      <td>TENANCINGO</td>\n",
       "      <td>2022-05-25</td>\n",
       "      <td>17:00:00</td>\n",
       "      <td>NO</td>\n",
       "      <td>K703</td>\n",
       "      <td>CIRROSIS HEPÁTICA ALCOHÓLICA</td>\n",
       "      <td>2022-05-25 17:00:00</td>\n",
       "    </tr>\n",
       "    <tr>\n",
       "      <th>41824</th>\n",
       "      <td>HOMBRE</td>\n",
       "      <td>64</td>\n",
       "      <td>CASADO(A)</td>\n",
       "      <td>LICENCIATURA O PROFESIONAL COMPLETO</td>\n",
       "      <td>NO OCUPADO, JUBILADO O PENSIONADO</td>\n",
       "      <td>NO</td>\n",
       "      <td>ISSSTE</td>\n",
       "      <td>ISSSTE</td>\n",
       "      <td>TULTITLÁN</td>\n",
       "      <td>TULTITLAN DE MARIANO ESCOBEDO</td>\n",
       "      <td>99999</td>\n",
       "      <td>CUAUTITLÁN</td>\n",
       "      <td>2022-06-13</td>\n",
       "      <td>04:40:00</td>\n",
       "      <td>NO</td>\n",
       "      <td>N390</td>\n",
       "      <td>INFECCIÓN DE VÍAS URINARIAS, SITIO NO ESPECIFI...</td>\n",
       "      <td>2022-06-13 04:40:00</td>\n",
       "    </tr>\n",
       "    <tr>\n",
       "      <th>49870</th>\n",
       "      <td>HOMBRE</td>\n",
       "      <td>20</td>\n",
       "      <td>SOLTERO(A)</td>\n",
       "      <td>BACHILLERATO O PREPARATORIA COMPLETA</td>\n",
       "      <td>NO REMUNERADO, ESTUDIANTE</td>\n",
       "      <td>NO</td>\n",
       "      <td>IMSS</td>\n",
       "      <td>HOGAR</td>\n",
       "      <td>TLALMANALCO</td>\n",
       "      <td>TLALMANALCO DE VELAZQUEZ</td>\n",
       "      <td>56723</td>\n",
       "      <td>AMECAMECA</td>\n",
       "      <td>2022-07-23</td>\n",
       "      <td>05:00:00</td>\n",
       "      <td>NO</td>\n",
       "      <td>E039</td>\n",
       "      <td>HIPOTIROIDISMO, NO ESPECIFICADO</td>\n",
       "      <td>2022-07-23 05:00:00</td>\n",
       "    </tr>\n",
       "    <tr>\n",
       "      <th>42451</th>\n",
       "      <td>HOMBRE</td>\n",
       "      <td>56</td>\n",
       "      <td>CASADO(A)</td>\n",
       "      <td>LICENCIATURA O PROFESIONAL COMPLETO</td>\n",
       "      <td>VENDEDORES AMBULANTES</td>\n",
       "      <td>SI</td>\n",
       "      <td>IMSS</td>\n",
       "      <td>IMSS</td>\n",
       "      <td>COACALCO DE BERRIOZÁBAL</td>\n",
       "      <td>SAN FRANCISCO COACALCO</td>\n",
       "      <td>55710</td>\n",
       "      <td>ECATEPEC</td>\n",
       "      <td>2022-06-28</td>\n",
       "      <td>17:53:00</td>\n",
       "      <td>NO</td>\n",
       "      <td>K769</td>\n",
       "      <td>ENFERMEDAD DEL HÍGADO, NO ESPECIFICADA</td>\n",
       "      <td>2022-06-28 17:53:00</td>\n",
       "    </tr>\n",
       "    <tr>\n",
       "      <th>77643</th>\n",
       "      <td>MUJER</td>\n",
       "      <td>56</td>\n",
       "      <td>CASADO(A)</td>\n",
       "      <td>PRIMARIA COMPLETA</td>\n",
       "      <td>OPERADORES DE INSTALACIONES Y MAQUINARIA INDUS...</td>\n",
       "      <td>SI</td>\n",
       "      <td>IMSS</td>\n",
       "      <td>HOGAR</td>\n",
       "      <td>TOLUCA</td>\n",
       "      <td>SAN NICOLAS TOLENTINO</td>\n",
       "      <td>50230</td>\n",
       "      <td>TOLUCA</td>\n",
       "      <td>2022-10-31</td>\n",
       "      <td>20:30:00</td>\n",
       "      <td>NO</td>\n",
       "      <td>C809</td>\n",
       "      <td>TUMOR MALIGNO, SITIO PRIMARIO NO ESPECIFICADO</td>\n",
       "      <td>2022-10-31 20:30:00</td>\n",
       "    </tr>\n",
       "    <tr>\n",
       "      <th>86559</th>\n",
       "      <td>MUJER</td>\n",
       "      <td>90</td>\n",
       "      <td>SOLTERO(A)</td>\n",
       "      <td>PRIMARIA COMPLETA</td>\n",
       "      <td>NO REMUNERADO, AMA DE CASA</td>\n",
       "      <td>NO</td>\n",
       "      <td>NINGUNA</td>\n",
       "      <td>SE IGNORA</td>\n",
       "      <td>TOLUCA</td>\n",
       "      <td>TOLUCA DE LERDO</td>\n",
       "      <td>50000</td>\n",
       "      <td>TOLUCA</td>\n",
       "      <td>2022-12-04</td>\n",
       "      <td>14:58:00</td>\n",
       "      <td>NO</td>\n",
       "      <td>F03X</td>\n",
       "      <td>DEMENCIA , NO ESPECIFICADA</td>\n",
       "      <td>2022-12-04 14:58:00</td>\n",
       "    </tr>\n",
       "    <tr>\n",
       "      <th>37566</th>\n",
       "      <td>HOMBRE</td>\n",
       "      <td>42</td>\n",
       "      <td>CASADO(A)</td>\n",
       "      <td>SECUNDARIA COMPLETA</td>\n",
       "      <td>OCUPACIONES NO ESPECIFICADAS</td>\n",
       "      <td>SI</td>\n",
       "      <td>NINGUNA</td>\n",
       "      <td>VÍA PÚBLICA</td>\n",
       "      <td>NAUCALPAN DE JUÁREZ</td>\n",
       "      <td>NO ESPECIFICADO</td>\n",
       "      <td>99999</td>\n",
       "      <td>NAUCALPAN</td>\n",
       "      <td>2022-03-25</td>\n",
       "      <td>19:30:00</td>\n",
       "      <td>SI</td>\n",
       "      <td>Y094</td>\n",
       "      <td>AGRESIÓN POR MEDIOS NO ESPECIFICADOS, CALLES Y...</td>\n",
       "      <td>2022-03-25 19:30:00</td>\n",
       "    </tr>\n",
       "    <tr>\n",
       "      <th>2299</th>\n",
       "      <td>HOMBRE</td>\n",
       "      <td>64</td>\n",
       "      <td>SOLTERO(A)</td>\n",
       "      <td>PRIMARIA INCOMPLETA</td>\n",
       "      <td>TRABAJADORES EN ACTIVIDADES AGRÍCOLAS Y GANADERAS</td>\n",
       "      <td>SI</td>\n",
       "      <td>NINGUNA</td>\n",
       "      <td>HOGAR</td>\n",
       "      <td>SAN FELIPE DEL PROGRESO</td>\n",
       "      <td>SAN JUAN RIOYOS</td>\n",
       "      <td>50684</td>\n",
       "      <td>IXTLAHUACA</td>\n",
       "      <td>2022-01-04</td>\n",
       "      <td>09:30:00</td>\n",
       "      <td>NO</td>\n",
       "      <td>A099</td>\n",
       "      <td>GASTROENTERITIS Y COLITIS DE ORIGEN NO ESPECIF...</td>\n",
       "      <td>2022-01-04 09:30:00</td>\n",
       "    </tr>\n",
       "  </tbody>\n",
       "</table>\n",
       "</div>"
      ],
      "text/plain": [
       "        sexod  edad estadoconyugald                            escolaridadd  \\\n",
       "18941  HOMBRE    53      SOLTERO(A)    BACHILLERATO O PREPARATORIA COMPLETA   \n",
       "53107  HOMBRE    88   DIVORCIADO(A)                     PRIMARIA INCOMPLETA   \n",
       "56706  HOMBRE    80        VIUDO(A)                       PRIMARIA COMPLETA   \n",
       "83811  HOMBRE    91        VIUDO(A)                                 NINGUNA   \n",
       "73784   MUJER   103        VIUDO(A)                                 NINGUNA   \n",
       "69228  HOMBRE    33     SEPARADO(A)  BACHILLERATO O PREPARATORIA INCOMPLETA   \n",
       "3002    MUJER    78        VIUDO(A)                                 NINGUNA   \n",
       "60822   MUJER    70        VIUDO(A)                                 NINGUNA   \n",
       "86702   MUJER    93      SOLTERO(A)                     PRIMARIA INCOMPLETA   \n",
       "70794   MUJER    58       CASADO(A)                     SECUNDARIA COMPLETA   \n",
       "26355  HOMBRE    90       CASADO(A)                     PRIMARIA INCOMPLETA   \n",
       "53665  HOMBRE    89       CASADO(A)     LICENCIATURA O PROFESIONAL COMPLETO   \n",
       "42124  HOMBRE    80   DIVORCIADO(A)                     PRIMARIA INCOMPLETA   \n",
       "41824  HOMBRE    64       CASADO(A)     LICENCIATURA O PROFESIONAL COMPLETO   \n",
       "49870  HOMBRE    20      SOLTERO(A)    BACHILLERATO O PREPARATORIA COMPLETA   \n",
       "42451  HOMBRE    56       CASADO(A)     LICENCIATURA O PROFESIONAL COMPLETO   \n",
       "77643   MUJER    56       CASADO(A)                       PRIMARIA COMPLETA   \n",
       "86559   MUJER    90      SOLTERO(A)                       PRIMARIA COMPLETA   \n",
       "37566  HOMBRE    42       CASADO(A)                     SECUNDARIA COMPLETA   \n",
       "2299   HOMBRE    64      SOLTERO(A)                     PRIMARIA INCOMPLETA   \n",
       "\n",
       "                                 claveocupacionhabituald trabajaactualmented  \\\n",
       "18941            EMPLEADOS DE VENTAS EN ESTABLECIMIENTOS                  NO   \n",
       "53107                                        NO OCUPADOS                  NO   \n",
       "56706    CONDUCTORES DE TRANSPORTE Y DE MAQUINARIA MÓVIL                  SI   \n",
       "83811           AYUDANTES EN LA PREPARACIÓN DE ALIMENTOS                  NO   \n",
       "73784                         NO REMUNERADO, AMA DE CASA                  NO   \n",
       "69228  OTROS OPERADORES DE MAQUINARIA INDUSTRIAL, ENS...                  SI   \n",
       "3002                          NO REMUNERADO, AMA DE CASA                  NO   \n",
       "60822                         NO REMUNERADO, AMA DE CASA                  NO   \n",
       "86702                         NO REMUNERADO, AMA DE CASA                  NO   \n",
       "70794                                        NO OCUPADOS                  NO   \n",
       "26355  TRABAJADORES EN ACTIVIDADES AGRÍCOLAS Y GANADERAS                  NO   \n",
       "53665                       OCUPACIONES NO ESPECIFICADAS                  NO   \n",
       "42124  TRABAJADORES EN ACTIVIDADES AGRÍCOLAS Y GANADERAS                  NO   \n",
       "41824                  NO OCUPADO, JUBILADO O PENSIONADO                  NO   \n",
       "49870                          NO REMUNERADO, ESTUDIANTE                  NO   \n",
       "42451                              VENDEDORES AMBULANTES                  SI   \n",
       "77643  OPERADORES DE INSTALACIONES Y MAQUINARIA INDUS...                  SI   \n",
       "86559                         NO REMUNERADO, AMA DE CASA                  NO   \n",
       "37566                       OCUPACIONES NO ESPECIFICADAS                  SI   \n",
       "2299   TRABAJADORES EN ACTIVIDADES AGRÍCOLAS Y GANADERAS                  SI   \n",
       "\n",
       "      afiliaciond      sitiodefunciond          municipiodefunciond  \\\n",
       "18941        IMSS                HOGAR          ECATEPEC DE MORELOS   \n",
       "53107     NINGUNA                HOGAR  VALLE DE CHALCO SOLIDARIDAD   \n",
       "56706     NINGUNA  SECRETARIA DE SALUD          ECATEPEC DE MORELOS   \n",
       "83811     NINGUNA                HOGAR                    TULTITLÁN   \n",
       "73784        IMSS                HOGAR                    TULTITLÁN   \n",
       "69228     NINGUNA          VÍA PÚBLICA           ALMOLOYA DE JUÁREZ   \n",
       "3002         IMSS                HOGAR               NICOLÁS ROMERO   \n",
       "60822     NINGUNA  SECRETARIA DE SALUD          ECATEPEC DE MORELOS   \n",
       "86702     NINGUNA                HOGAR                     JALTENCO   \n",
       "70794        IMSS                 IMSS          ECATEPEC DE MORELOS   \n",
       "26355     NINGUNA                HOGAR                       OZUMBA   \n",
       "53665      ISSSTE                HOGAR          ECATEPEC DE MORELOS   \n",
       "42124     NINGUNA                HOGAR                     TONATICO   \n",
       "41824      ISSSTE               ISSSTE                    TULTITLÁN   \n",
       "49870        IMSS                HOGAR                  TLALMANALCO   \n",
       "42451        IMSS                 IMSS      COACALCO DE BERRIOZÁBAL   \n",
       "77643        IMSS                HOGAR                       TOLUCA   \n",
       "86559     NINGUNA            SE IGNORA                       TOLUCA   \n",
       "37566     NINGUNA          VÍA PÚBLICA          NAUCALPAN DE JUÁREZ   \n",
       "2299      NINGUNA                HOGAR      SAN FELIPE DEL PROGRESO   \n",
       "\n",
       "                 localidaddefunciond codigopostaldefuncion  \\\n",
       "18941            ECATEPEC DE MORELOS                 55280   \n",
       "53107                           XICO                 56615   \n",
       "56706            ECATEPEC DE MORELOS                 55076   \n",
       "83811  TULTITLAN DE MARIANO ESCOBEDO                 54900   \n",
       "73784  TULTITLAN DE MARIANO ESCOBEDO                 54900   \n",
       "69228      SAN ISIDRO (EL RESERVADO)                 99999   \n",
       "3002                 NO ESPECIFICADO                 54409   \n",
       "60822            ECATEPEC DE MORELOS                 55210   \n",
       "86702                       JALTENCO                 55780   \n",
       "70794            ECATEPEC DE MORELOS                 55130   \n",
       "26355               OZUMBA DE ALZATE                 56800   \n",
       "53665            ECATEPEC DE MORELOS                 55450   \n",
       "42124                       TONATICO                 51950   \n",
       "41824  TULTITLAN DE MARIANO ESCOBEDO                 99999   \n",
       "49870       TLALMANALCO DE VELAZQUEZ                 56723   \n",
       "42451         SAN FRANCISCO COACALCO                 55710   \n",
       "77643          SAN NICOLAS TOLENTINO                 50230   \n",
       "86559                TOLUCA DE LERDO                 50000   \n",
       "37566                NO ESPECIFICADO                 99999   \n",
       "2299                 SAN JUAN RIOYOS                 50684   \n",
       "\n",
       "      jurisdicciondefunciond fechadefuncion horadefuncion  \\\n",
       "18941               ECATEPEC     2022-03-08      02:50:00   \n",
       "53107              AMECAMECA     2022-08-01      17:15:00   \n",
       "56706               ECATEPEC     2022-08-28      11:00:00   \n",
       "83811             CUAUTITLÁN     2022-12-21      18:30:00   \n",
       "73784             CUAUTITLÁN     2022-11-10      16:49:00   \n",
       "69228                 TOLUCA     2022-09-27      19:20:00   \n",
       "3002    ATIZAPÁN DE ZARAGOZA     2022-01-16      03:30:00   \n",
       "60822               ECATEPEC     2022-09-15      05:55:00   \n",
       "86702               ZUMPANGO     2022-12-26      20:30:00   \n",
       "70794               ECATEPEC     2022-11-01      13:20:00   \n",
       "26355              AMECAMECA     2022-04-12      07:20:00   \n",
       "53665               ECATEPEC     2022-06-12      01:25:00   \n",
       "42124             TENANCINGO     2022-05-25      17:00:00   \n",
       "41824             CUAUTITLÁN     2022-06-13      04:40:00   \n",
       "49870              AMECAMECA     2022-07-23      05:00:00   \n",
       "42451               ECATEPEC     2022-06-28      17:53:00   \n",
       "77643                 TOLUCA     2022-10-31      20:30:00   \n",
       "86559                 TOLUCA     2022-12-04      14:58:00   \n",
       "37566              NAUCALPAN     2022-03-25      19:30:00   \n",
       "2299              IXTLAHUACA     2022-01-04      09:30:00   \n",
       "\n",
       "      muerteaccidentalviolentad ciecausabasica  \\\n",
       "18941                        NO           C189   \n",
       "53107                        NO           C809   \n",
       "56706                        NO           C61X   \n",
       "83811                        NO           I698   \n",
       "73784                        NO           I219   \n",
       "69228                        SI           X590   \n",
       "3002                         NO           E849   \n",
       "60822                        NO           J90X   \n",
       "86702                        NO           I219   \n",
       "70794                        NO           K650   \n",
       "26355                        NO           I219   \n",
       "53665                        NO           E146   \n",
       "42124                        NO           K703   \n",
       "41824                        NO           N390   \n",
       "49870                        NO           E039   \n",
       "42451                        NO           K769   \n",
       "77643                        NO           C809   \n",
       "86559                        NO           F03X   \n",
       "37566                        SI           Y094   \n",
       "2299                         NO           A099   \n",
       "\n",
       "                                         ciecausabasicad           Timestamp  \n",
       "18941     TUMOR MALIGNO DEL COLON, PARTE NO ESPECIFICADA 2022-03-08 02:50:00  \n",
       "53107      TUMOR MALIGNO, SITIO PRIMARIO NO ESPECIFICADO 2022-08-01 17:15:00  \n",
       "56706                       TUMOR MALIGNO DE LA PRÓSTATA 2022-08-28 11:00:00  \n",
       "83811  SECUELAS DE OTRAS ENFERMEDADES CEREBROVASCULAR... 2022-12-21 18:30:00  \n",
       "73784  INFARTO AGUDO DEL MIOCARDIO, SIN OTRA ESPECIFI... 2022-11-10 16:49:00  \n",
       "69228  EXPOSICIÓN A FACTORES NO ESPECIFICADOS, QUE CA... 2022-09-27 19:20:00  \n",
       "3002          FIBROSIS QUÍSTICA, SIN OTRA ESPECIFICACIÓN 2022-01-16 03:30:00  \n",
       "60822       DERRAME PLEURAL NO CLASIFICADO EN OTRA PARTE 2022-09-15 05:55:00  \n",
       "86702  INFARTO AGUDO DEL MIOCARDIO, SIN OTRA ESPECIFI... 2022-12-26 20:30:00  \n",
       "70794                                  PERITONITIS AGUDA 2022-11-01 13:20:00  \n",
       "26355  INFARTO AGUDO DEL MIOCARDIO, SIN OTRA ESPECIFI... 2022-04-12 07:20:00  \n",
       "53665  DIABETES MELLITUS NO ESPECIFICADA, CON OTRAS C... 2022-06-12 01:25:00  \n",
       "42124                       CIRROSIS HEPÁTICA ALCOHÓLICA 2022-05-25 17:00:00  \n",
       "41824  INFECCIÓN DE VÍAS URINARIAS, SITIO NO ESPECIFI... 2022-06-13 04:40:00  \n",
       "49870                    HIPOTIROIDISMO, NO ESPECIFICADO 2022-07-23 05:00:00  \n",
       "42451             ENFERMEDAD DEL HÍGADO, NO ESPECIFICADA 2022-06-28 17:53:00  \n",
       "77643      TUMOR MALIGNO, SITIO PRIMARIO NO ESPECIFICADO 2022-10-31 20:30:00  \n",
       "86559                         DEMENCIA , NO ESPECIFICADA 2022-12-04 14:58:00  \n",
       "37566  AGRESIÓN POR MEDIOS NO ESPECIFICADOS, CALLES Y... 2022-03-25 19:30:00  \n",
       "2299   GASTROENTERITIS Y COLITIS DE ORIGEN NO ESPECIF... 2022-01-04 09:30:00  "
      ]
     },
     "execution_count": 625,
     "metadata": {},
     "output_type": "execute_result"
    }
   ],
   "source": [
    "df.sample(20)"
   ]
  },
  {
   "cell_type": "code",
   "execution_count": 626,
   "id": "63a9b781",
   "metadata": {},
   "outputs": [
    {
     "data": {
      "text/plain": [
       "sexod                           0\n",
       "edad                            0\n",
       "estadoconyugald                 0\n",
       "escolaridadd                    0\n",
       "claveocupacionhabituald         0\n",
       "trabajaactualmented             0\n",
       "afiliaciond                     0\n",
       "sitiodefunciond                 0\n",
       "municipiodefunciond             0\n",
       "localidaddefunciond             0\n",
       "codigopostaldefuncion           0\n",
       "jurisdicciondefunciond          0\n",
       "fechadefuncion                  0\n",
       "horadefuncion                1655\n",
       "muerteaccidentalviolentad       0\n",
       "ciecausabasica                  0\n",
       "ciecausabasicad                 0\n",
       "Timestamp                    1655\n",
       "dtype: int64"
      ]
     },
     "execution_count": 626,
     "metadata": {},
     "output_type": "execute_result"
    }
   ],
   "source": [
    "df.isnull().sum()"
   ]
  },
  {
   "cell_type": "code",
   "execution_count": 627,
   "id": "f4a4afa8",
   "metadata": {},
   "outputs": [
    {
     "data": {
      "text/plain": [
       "sexod                           0\n",
       "edad                            0\n",
       "estadoconyugald                 0\n",
       "escolaridadd                    0\n",
       "claveocupacionhabituald         0\n",
       "trabajaactualmented             0\n",
       "afiliaciond                     0\n",
       "sitiodefunciond                 0\n",
       "municipiodefunciond             0\n",
       "localidaddefunciond             0\n",
       "codigopostaldefuncion           0\n",
       "jurisdicciondefunciond          0\n",
       "fechadefuncion                  0\n",
       "horadefuncion                1655\n",
       "muerteaccidentalviolentad       0\n",
       "ciecausabasica                  0\n",
       "ciecausabasicad                 0\n",
       "Timestamp                    1655\n",
       "dtype: int64"
      ]
     },
     "execution_count": 627,
     "metadata": {},
     "output_type": "execute_result"
    }
   ],
   "source": [
    "df.isna().sum()"
   ]
  },
  {
   "cell_type": "code",
   "execution_count": 628,
   "id": "c6eece19",
   "metadata": {},
   "outputs": [
    {
     "name": "stdout",
     "output_type": "stream",
     "text": [
      "count    90117.000000\n",
      "mean        66.746696\n",
      "std         49.494207\n",
      "min          1.000000\n",
      "25%         53.000000\n",
      "50%         68.000000\n",
      "75%         81.000000\n",
      "max        999.000000\n",
      "Name: edad, dtype: float64\n"
     ]
    }
   ],
   "source": [
    "descripcion_edad = df['edad'].describe()\n",
    "print(descripcion_edad)\n",
    "#Nota: en el registro cuando no se conoce la edad, se coloca 999"
   ]
  },
  {
   "cell_type": "code",
   "execution_count": 629,
   "id": "e4bd5fb2",
   "metadata": {},
   "outputs": [
    {
     "data": {
      "text/plain": [
       "sexod                              category\n",
       "edad                                  int64\n",
       "estadoconyugald                    category\n",
       "escolaridadd                       category\n",
       "claveocupacionhabituald              object\n",
       "trabajaactualmented                category\n",
       "afiliaciond                        category\n",
       "sitiodefunciond                      object\n",
       "municipiodefunciond                  object\n",
       "localidaddefunciond                  object\n",
       "codigopostaldefuncion                object\n",
       "jurisdicciondefunciond               object\n",
       "fechadefuncion               datetime64[ns]\n",
       "horadefuncion                        object\n",
       "muerteaccidentalviolentad          category\n",
       "ciecausabasica                       object\n",
       "ciecausabasicad                      object\n",
       "Timestamp                    datetime64[ns]\n",
       "dtype: object"
      ]
     },
     "execution_count": 629,
     "metadata": {},
     "output_type": "execute_result"
    }
   ],
   "source": [
    "df.dtypes"
   ]
  },
  {
   "cell_type": "markdown",
   "id": "cf1deab8",
   "metadata": {},
   "source": [
    "### Objetivo 1: Construir un algoritmo de Machine Learning No-supervisado que resuelva un problema específico."
   ]
  },
  {
   "cell_type": "code",
   "execution_count": 630,
   "id": "0f4b1e46",
   "metadata": {},
   "outputs": [],
   "source": [
    "#Hicimos una codificación de las categorías\n",
    "label_encoder = LabelEncoder()\n",
    "df['sexod_encoded'] = label_encoder.fit_transform(df['sexod'])\n",
    "df['estadoconyugald_encoded'] = label_encoder.fit_transform(df['estadoconyugald'])\n",
    "df['escolaridadd_encoded'] = label_encoder.fit_transform(df['escolaridadd'])\n",
    "df['trabajaactualmented_encoded'] = label_encoder.fit_transform(df['trabajaactualmented'])\n",
    "df['afiliaciond_encoded'] = label_encoder.fit_transform(df['afiliaciond'])\n",
    "df['muerteaccidentalviolentad_encoded'] = label_encoder.fit_transform(df['muerteaccidentalviolentad'])"
   ]
  },
  {
   "cell_type": "code",
   "execution_count": 631,
   "id": "5fb46b2c",
   "metadata": {},
   "outputs": [
    {
     "data": {
      "text/html": [
       "<div>\n",
       "<style scoped>\n",
       "    .dataframe tbody tr th:only-of-type {\n",
       "        vertical-align: middle;\n",
       "    }\n",
       "\n",
       "    .dataframe tbody tr th {\n",
       "        vertical-align: top;\n",
       "    }\n",
       "\n",
       "    .dataframe thead th {\n",
       "        text-align: right;\n",
       "    }\n",
       "</style>\n",
       "<table border=\"1\" class=\"dataframe\">\n",
       "  <thead>\n",
       "    <tr style=\"text-align: right;\">\n",
       "      <th></th>\n",
       "      <th>sexod</th>\n",
       "      <th>edad</th>\n",
       "      <th>estadoconyugald</th>\n",
       "      <th>escolaridadd</th>\n",
       "      <th>claveocupacionhabituald</th>\n",
       "      <th>trabajaactualmented</th>\n",
       "      <th>afiliaciond</th>\n",
       "      <th>sitiodefunciond</th>\n",
       "      <th>municipiodefunciond</th>\n",
       "      <th>localidaddefunciond</th>\n",
       "      <th>...</th>\n",
       "      <th>muerteaccidentalviolentad</th>\n",
       "      <th>ciecausabasica</th>\n",
       "      <th>ciecausabasicad</th>\n",
       "      <th>Timestamp</th>\n",
       "      <th>sexod_encoded</th>\n",
       "      <th>estadoconyugald_encoded</th>\n",
       "      <th>escolaridadd_encoded</th>\n",
       "      <th>trabajaactualmented_encoded</th>\n",
       "      <th>afiliaciond_encoded</th>\n",
       "      <th>muerteaccidentalviolentad_encoded</th>\n",
       "    </tr>\n",
       "  </thead>\n",
       "  <tbody>\n",
       "    <tr>\n",
       "      <th>14940</th>\n",
       "      <td>MUJER</td>\n",
       "      <td>75</td>\n",
       "      <td>CASADO(A)</td>\n",
       "      <td>NINGUNA</td>\n",
       "      <td>NO OCUPADOS</td>\n",
       "      <td>NO</td>\n",
       "      <td>NINGUNA</td>\n",
       "      <td>HOGAR</td>\n",
       "      <td>ECATEPEC DE MORELOS</td>\n",
       "      <td>ECATEPEC DE MORELOS</td>\n",
       "      <td>...</td>\n",
       "      <td>NO</td>\n",
       "      <td>C169</td>\n",
       "      <td>TUMOR MALIGNO DEL ESTÓMAGO, PARTE NO ESPECIFICADA</td>\n",
       "      <td>2022-02-20 05:00:00</td>\n",
       "      <td>1</td>\n",
       "      <td>0</td>\n",
       "      <td>4</td>\n",
       "      <td>0</td>\n",
       "      <td>4</td>\n",
       "      <td>0</td>\n",
       "    </tr>\n",
       "    <tr>\n",
       "      <th>68388</th>\n",
       "      <td>HOMBRE</td>\n",
       "      <td>81</td>\n",
       "      <td>VIUDO(A)</td>\n",
       "      <td>PRIMARIA INCOMPLETA</td>\n",
       "      <td>NO REMUNERADO, AMA DE CASA</td>\n",
       "      <td>NO</td>\n",
       "      <td>IMSS</td>\n",
       "      <td>HOGAR</td>\n",
       "      <td>NICOLÁS ROMERO</td>\n",
       "      <td>NO ESPECIFICADO</td>\n",
       "      <td>...</td>\n",
       "      <td>NO</td>\n",
       "      <td>E117</td>\n",
       "      <td>DIABETES MELLITUS TIPO 2, CON COMPLICACIONES M...</td>\n",
       "      <td>2022-10-06 00:10:00</td>\n",
       "      <td>0</td>\n",
       "      <td>8</td>\n",
       "      <td>12</td>\n",
       "      <td>0</td>\n",
       "      <td>0</td>\n",
       "      <td>0</td>\n",
       "    </tr>\n",
       "    <tr>\n",
       "      <th>68985</th>\n",
       "      <td>MUJER</td>\n",
       "      <td>87</td>\n",
       "      <td>VIUDO(A)</td>\n",
       "      <td>PRIMARIA COMPLETA</td>\n",
       "      <td>NO REMUNERADO, AMA DE CASA</td>\n",
       "      <td>NO</td>\n",
       "      <td>NINGUNA</td>\n",
       "      <td>HOGAR</td>\n",
       "      <td>RAYÓN</td>\n",
       "      <td>SAN JUAN LA ISLA</td>\n",
       "      <td>...</td>\n",
       "      <td>NO</td>\n",
       "      <td>E117</td>\n",
       "      <td>DIABETES MELLITUS TIPO 2, CON COMPLICACIONES M...</td>\n",
       "      <td>2022-10-11 06:30:00</td>\n",
       "      <td>1</td>\n",
       "      <td>8</td>\n",
       "      <td>11</td>\n",
       "      <td>0</td>\n",
       "      <td>4</td>\n",
       "      <td>0</td>\n",
       "    </tr>\n",
       "    <tr>\n",
       "      <th>1966</th>\n",
       "      <td>HOMBRE</td>\n",
       "      <td>61</td>\n",
       "      <td>UNION LIBRE</td>\n",
       "      <td>SECUNDARIA COMPLETA</td>\n",
       "      <td>COMERCIANTES EN ESTABLECIMIENTOS</td>\n",
       "      <td>SI</td>\n",
       "      <td>IMSS</td>\n",
       "      <td>IMSS</td>\n",
       "      <td>TECÁMAC</td>\n",
       "      <td>TECAMAC DE FELIPE VILLANUEVA</td>\n",
       "      <td>...</td>\n",
       "      <td>NO</td>\n",
       "      <td>D374</td>\n",
       "      <td>TUMOR DE COMPORTAMIENTO INCIERTO O DESCONOCIDO...</td>\n",
       "      <td>2022-01-17 05:30:00</td>\n",
       "      <td>0</td>\n",
       "      <td>7</td>\n",
       "      <td>14</td>\n",
       "      <td>4</td>\n",
       "      <td>0</td>\n",
       "      <td>0</td>\n",
       "    </tr>\n",
       "    <tr>\n",
       "      <th>68612</th>\n",
       "      <td>MUJER</td>\n",
       "      <td>34</td>\n",
       "      <td>CASADO(A)</td>\n",
       "      <td>BACHILLERATO O PREPARATORIA COMPLETA</td>\n",
       "      <td>NO REMUNERADO, AMA DE CASA</td>\n",
       "      <td>NO</td>\n",
       "      <td>NO ESPECIFICADO</td>\n",
       "      <td>HOGAR</td>\n",
       "      <td>VALLE DE CHALCO SOLIDARIDAD</td>\n",
       "      <td>XICO</td>\n",
       "      <td>...</td>\n",
       "      <td>NO</td>\n",
       "      <td>I219</td>\n",
       "      <td>INFARTO AGUDO DEL MIOCARDIO, SIN OTRA ESPECIFI...</td>\n",
       "      <td>2022-10-05 00:10:00</td>\n",
       "      <td>1</td>\n",
       "      <td>0</td>\n",
       "      <td>0</td>\n",
       "      <td>0</td>\n",
       "      <td>5</td>\n",
       "      <td>0</td>\n",
       "    </tr>\n",
       "  </tbody>\n",
       "</table>\n",
       "<p>5 rows × 24 columns</p>\n",
       "</div>"
      ],
      "text/plain": [
       "        sexod  edad estadoconyugald                          escolaridadd  \\\n",
       "14940   MUJER    75       CASADO(A)                               NINGUNA   \n",
       "68388  HOMBRE    81        VIUDO(A)                   PRIMARIA INCOMPLETA   \n",
       "68985   MUJER    87        VIUDO(A)                     PRIMARIA COMPLETA   \n",
       "1966   HOMBRE    61     UNION LIBRE                   SECUNDARIA COMPLETA   \n",
       "68612   MUJER    34       CASADO(A)  BACHILLERATO O PREPARATORIA COMPLETA   \n",
       "\n",
       "                claveocupacionhabituald trabajaactualmented      afiliaciond  \\\n",
       "14940                       NO OCUPADOS                  NO          NINGUNA   \n",
       "68388        NO REMUNERADO, AMA DE CASA                  NO             IMSS   \n",
       "68985        NO REMUNERADO, AMA DE CASA                  NO          NINGUNA   \n",
       "1966   COMERCIANTES EN ESTABLECIMIENTOS                  SI             IMSS   \n",
       "68612        NO REMUNERADO, AMA DE CASA                  NO  NO ESPECIFICADO   \n",
       "\n",
       "      sitiodefunciond          municipiodefunciond  \\\n",
       "14940           HOGAR          ECATEPEC DE MORELOS   \n",
       "68388           HOGAR               NICOLÁS ROMERO   \n",
       "68985           HOGAR                        RAYÓN   \n",
       "1966             IMSS                      TECÁMAC   \n",
       "68612           HOGAR  VALLE DE CHALCO SOLIDARIDAD   \n",
       "\n",
       "                localidaddefunciond  ... muerteaccidentalviolentad  \\\n",
       "14940           ECATEPEC DE MORELOS  ...                        NO   \n",
       "68388               NO ESPECIFICADO  ...                        NO   \n",
       "68985              SAN JUAN LA ISLA  ...                        NO   \n",
       "1966   TECAMAC DE FELIPE VILLANUEVA  ...                        NO   \n",
       "68612                          XICO  ...                        NO   \n",
       "\n",
       "      ciecausabasica                                    ciecausabasicad  \\\n",
       "14940           C169  TUMOR MALIGNO DEL ESTÓMAGO, PARTE NO ESPECIFICADA   \n",
       "68388           E117  DIABETES MELLITUS TIPO 2, CON COMPLICACIONES M...   \n",
       "68985           E117  DIABETES MELLITUS TIPO 2, CON COMPLICACIONES M...   \n",
       "1966            D374  TUMOR DE COMPORTAMIENTO INCIERTO O DESCONOCIDO...   \n",
       "68612           I219  INFARTO AGUDO DEL MIOCARDIO, SIN OTRA ESPECIFI...   \n",
       "\n",
       "                Timestamp sexod_encoded estadoconyugald_encoded  \\\n",
       "14940 2022-02-20 05:00:00             1                       0   \n",
       "68388 2022-10-06 00:10:00             0                       8   \n",
       "68985 2022-10-11 06:30:00             1                       8   \n",
       "1966  2022-01-17 05:30:00             0                       7   \n",
       "68612 2022-10-05 00:10:00             1                       0   \n",
       "\n",
       "      escolaridadd_encoded trabajaactualmented_encoded  afiliaciond_encoded  \\\n",
       "14940                    4                           0                    4   \n",
       "68388                   12                           0                    0   \n",
       "68985                   11                           0                    4   \n",
       "1966                    14                           4                    0   \n",
       "68612                    0                           0                    5   \n",
       "\n",
       "       muerteaccidentalviolentad_encoded  \n",
       "14940                                  0  \n",
       "68388                                  0  \n",
       "68985                                  0  \n",
       "1966                                   0  \n",
       "68612                                  0  \n",
       "\n",
       "[5 rows x 24 columns]"
      ]
     },
     "execution_count": 631,
     "metadata": {},
     "output_type": "execute_result"
    }
   ],
   "source": [
    "df.sample(5)"
   ]
  },
  {
   "cell_type": "code",
   "execution_count": 632,
   "id": "5b30e061",
   "metadata": {},
   "outputs": [
    {
     "name": "stdout",
     "output_type": "stream",
     "text": [
      "[0 4 2 1 3]\n"
     ]
    }
   ],
   "source": [
    "valores_unicos = df['trabajaactualmented_encoded'].unique()\n",
    "print(valores_unicos)"
   ]
  },
  {
   "cell_type": "code",
   "execution_count": 633,
   "id": "570234f5",
   "metadata": {},
   "outputs": [
    {
     "name": "stdout",
     "output_type": "stream",
     "text": [
      "['NO', 'SI', 'NO ESPECIFICADO', 'NO APLICA', 'SE IGNORA']\n",
      "Categories (5, object): ['NO', 'NO APLICA', 'NO ESPECIFICADO', 'SE IGNORA', 'SI']\n"
     ]
    }
   ],
   "source": [
    "valores_unicos = df['trabajaactualmented'].unique()\n",
    "print(valores_unicos)"
   ]
  },
  {
   "cell_type": "code",
   "execution_count": 634,
   "id": "fbef56b1",
   "metadata": {},
   "outputs": [],
   "source": [
    "X = df[['sexod_encoded', 'estadoconyugald_encoded', 'escolaridadd_encoded', 'trabajaactualmented_encoded', 'afiliaciond_encoded','muerteaccidentalviolentad_encoded']]"
   ]
  },
  {
   "cell_type": "code",
   "execution_count": 635,
   "id": "4f46bd81",
   "metadata": {},
   "outputs": [
    {
     "name": "stdout",
     "output_type": "stream",
     "text": [
      "Número de clusters: 4, Inercia: 1109565.918396215\n"
     ]
    }
   ],
   "source": [
    "n_clusters = 4\n",
    "kmeans = KMeans(n_clusters=n_clusters, n_init=10)\n",
    "kmeans.fit(X)\n",
    "labels = kmeans.labels_\n",
    "inercia = kmeans.inertia_\n",
    "print(f\"Número de clusters: {n_clusters}, Inercia: {inercia}\")"
   ]
  },
  {
   "cell_type": "markdown",
   "id": "6d7bd35b",
   "metadata": {},
   "source": [
    "📙 La inercia es una medida de cuánto se dispersan los puntos dentro de los clústeres. "
   ]
  },
  {
   "cell_type": "code",
   "execution_count": 636,
   "id": "b747e673",
   "metadata": {},
   "outputs": [
    {
     "name": "stdout",
     "output_type": "stream",
     "text": [
      "[[ 0.55753843  6.99899979  2.7227311   0.83475469  3.27447884  0.11955148]\n",
      " [ 0.49692799  6.95407348 12.23138363  0.85509339  3.02104325  0.12573728]\n",
      " [ 0.35691975  0.15480405 12.24734497  0.83703303  2.45225105  0.06026405]\n",
      " [ 0.3729221   0.51744745  2.6746119   1.08187938  2.94587169  0.08922929]]\n"
     ]
    }
   ],
   "source": [
    "# Definir el número de clústeres\n",
    "K = 4\n",
    "\n",
    "# Crear objeto KMeans y entrenar el modelo\n",
    "modelo_kmeans = KMeans(n_clusters=K,n_init=10).fit(X)\n",
    "\n",
    "# Obtener los centroides de los clústeres\n",
    "centroides = modelo_kmeans.cluster_centers_\n",
    "\n",
    "# Imprimir los centroides\n",
    "print(centroides)"
   ]
  },
  {
   "cell_type": "markdown",
   "id": "2d0a397b",
   "metadata": {},
   "source": [
    "💡 Hicimos el ejercicio pero nos dimos cuenta de que no era adecuado porque las características categóricas codificadas son valores discretos y no tienen un significado numérico continuo.\n",
    "\n",
    "Con este ejercicio buscabamos entender mejor cómo se agrupan ciertos grupos de personas según diferentes características. Estas características son discretas, lo que significa que solo pueden tomar ciertos valores específicos, como por ejemplo en estado civil: \"soltero\", \"casado\" o \"divorciado\". Estas características no pueden tomar valores intermedios, como números decimales.\n",
    "\n",
    "Aprendizaje: elegir mejor el enfoque para analizar nuestros datos, es fundamental considerar el tipo de datos que tenemos. Las datos discretos requieren un enfoque diferente en comparación con los datos numéricos continuos. Por ejemplo, algoritmos como K-Means, que funcionan mejor con datos numéricos continuos, pueden no ser ideales para nuestras características discretas."
   ]
  },
  {
   "cell_type": "markdown",
   "id": "b4e7c036",
   "metadata": {},
   "source": [
    "✅ Dado estas circunstancias, optamos por obtener la moda de las variables."
   ]
  },
  {
   "cell_type": "code",
   "execution_count": 637,
   "id": "2a95397c",
   "metadata": {},
   "outputs": [],
   "source": [
    "def obtenerModa(resultados):\n",
    "    moda = (stats.mode(resultados)[0]).reshape(-1)\n",
    "    return moda[0]"
   ]
  },
  {
   "cell_type": "code",
   "execution_count": 638,
   "id": "62e625e4",
   "metadata": {},
   "outputs": [
    {
     "name": "stdout",
     "output_type": "stream",
     "text": [
      "Moda de la variable 'sexod_encoded' es: 0\n",
      "Moda de la variable 'estadoconyugald_encoded' es: 0\n",
      "Moda de la variable 'escolaridadd_encoded' es: 11\n",
      "Moda de la variable 'trabajaactualmented_encoded' es: 0\n",
      "Moda de la variable 'afiliaciond_encoded' es: 4\n",
      "Moda de la variable 'muerteaccidentalviolentad_encoded' es: 0\n"
     ]
    }
   ],
   "source": [
    "for columna in X.columns:\n",
    "    moda = obtenerModa(X[columna])\n",
    "    print(f\"Moda de la variable '{columna}' es: {moda}\")"
   ]
  },
  {
   "cell_type": "markdown",
   "id": "18fb024a",
   "metadata": {},
   "source": [
    "✅ Obtenedremos la categorización original para poder hacer una interpretación"
   ]
  },
  {
   "cell_type": "code",
   "execution_count": 639,
   "id": "eae55fd9",
   "metadata": {},
   "outputs": [],
   "source": [
    "X_originales = df[['sexod', 'estadoconyugald', 'escolaridadd', 'trabajaactualmented', 'afiliaciond','muerteaccidentalviolentad']]"
   ]
  },
  {
   "cell_type": "code",
   "execution_count": 640,
   "id": "6ae4cc5d",
   "metadata": {},
   "outputs": [
    {
     "name": "stdout",
     "output_type": "stream",
     "text": [
      "Valores para la columna 'sexod_encoded':\n",
      "0: MUJER\n",
      "1: HOMBRE\n",
      "2: NO ESPECIFICADO\n",
      "3: SE IGNORA\n",
      "\n",
      "Valores para la columna 'estadoconyugald_encoded':\n",
      "0: CASADO(A)\n",
      "1: UNION LIBRE\n",
      "2: VIUDO(A)\n",
      "3: SE IGNORA\n",
      "4: SEPARADO(A)\n",
      "5: SOLTERO(A)\n",
      "6: NO APLICA\n",
      "7: NO ESPECIFICADO\n",
      "8: DIVORCIADO(A)\n",
      "\n",
      "Valores para la columna 'escolaridadd_encoded':\n",
      "0: SECUNDARIA COMPLETA\n",
      "1: PRIMARIA INCOMPLETA\n",
      "2: NINGUNA\n",
      "3: PRIMARIA COMPLETA\n",
      "4: POSGRADO COMPLETO\n",
      "5: BACHILLERATO O PREPARATORIA COMPLETA\n",
      "6: NO ESPECIFICADO\n",
      "7: LICENCIATURA O PROFESIONAL COMPLETO\n",
      "8: NO APLICA\n",
      "9: SECUNDARIA INCOMPLETA\n",
      "10: LICENCIATURA O PROFESIONAL INCOMPLETO\n",
      "11: BACHILLERATO O PREPARATORIA INCOMPLETA\n",
      "12: SE IGNORA\n",
      "13: PREESCOLAR INCOMPLETA\n",
      "14: PREESCOLAR COMPLETA\n",
      "15: POSGRADO INCOMPLETO\n",
      "\n",
      "Valores para la columna 'trabajaactualmented_encoded':\n",
      "0: NO\n",
      "1: SI\n",
      "2: NO ESPECIFICADO\n",
      "3: NO APLICA\n",
      "4: SE IGNORA\n",
      "\n",
      "Valores para la columna 'afiliaciond_encoded':\n",
      "0: IMSS\n",
      "1: SE IGNORA\n",
      "2: NINGUNA\n",
      "3: SEGURO POPULAR / INSABI\n",
      "4: OTRA\n",
      "5: NO ESPECIFICADO\n",
      "6: ISSSTE\n",
      "7: SEDENA\n",
      "8: PEMEX\n",
      "9: IMSS BIENESTAR\n",
      "10: SEMAR\n",
      "11: ISSFAM\n",
      "\n",
      "Valores para la columna 'muerteaccidentalviolentad_encoded':\n",
      "0: NO\n",
      "1: SI\n",
      "\n"
     ]
    }
   ],
   "source": [
    "mapeo_columnas = {\n",
    "    'sexod_encoded': 'sexod',\n",
    "    'estadoconyugald_encoded': 'estadoconyugald',\n",
    "    'escolaridadd_encoded': 'escolaridadd',\n",
    "    'trabajaactualmented_encoded': 'trabajaactualmented',\n",
    "    'afiliaciond_encoded': 'afiliaciond',\n",
    "    'muerteaccidentalviolentad_encoded': 'muerteaccidentalviolentad'\n",
    "}\n",
    "mapeo_valores = {}\n",
    "for columna_codificada, columna_original in mapeo_columnas.items():\n",
    "    valores_codificados = sorted(X[columna_codificada].unique())\n",
    "    valores_originales = X_originales[columna_original].unique()\n",
    "    mapeo_valores[columna_codificada] = {codificacion: original for codificacion, original in zip(valores_codificados, valores_originales)}\n",
    "\n",
    "    \n",
    "for columna, mapeo in mapeo_valores.items():\n",
    "    print(f\"Valores para la columna '{columna}':\")\n",
    "    for codificacion, original in mapeo.items():\n",
    "        print(f\"{codificacion}: {original}\")\n",
    "    print()"
   ]
  },
  {
   "cell_type": "code",
   "execution_count": 641,
   "id": "008d4eb4",
   "metadata": {},
   "outputs": [
    {
     "name": "stdout",
     "output_type": "stream",
     "text": [
      "Valores para la columna 'sexod':\n",
      "0: HOMBRE\n",
      "1: MUJER\n",
      "2: NO ESPECIFICADO\n",
      "3: SE IGNORA\n",
      "\n",
      "Valores para la columna 'estadoconyugald':\n",
      "0: CASADO(A)\n",
      "1: DIVORCIADO(A)\n",
      "2: NO APLICA\n",
      "3: NO ESPECIFICADO\n",
      "4: SE IGNORA\n",
      "5: SEPARADO(A)\n",
      "6: SOLTERO(A)\n",
      "7: UNION LIBRE\n",
      "8: VIUDO(A)\n",
      "\n",
      "Valores para la columna 'escolaridadd':\n",
      "0: BACHILLERATO O PREPARATORIA COMPLETA\n",
      "1: BACHILLERATO O PREPARATORIA INCOMPLETA\n",
      "2: LICENCIATURA O PROFESIONAL COMPLETO\n",
      "3: LICENCIATURA O PROFESIONAL INCOMPLETO\n",
      "4: NINGUNA\n",
      "5: NO APLICA\n",
      "6: NO ESPECIFICADO\n",
      "7: POSGRADO COMPLETO\n",
      "8: POSGRADO INCOMPLETO\n",
      "9: PREESCOLAR COMPLETA\n",
      "10: PREESCOLAR INCOMPLETA\n",
      "11: PRIMARIA COMPLETA\n",
      "12: PRIMARIA INCOMPLETA\n",
      "13: SE IGNORA\n",
      "14: SECUNDARIA COMPLETA\n",
      "15: SECUNDARIA INCOMPLETA\n",
      "\n",
      "Valores para la columna 'trabajaactualmented':\n",
      "0: NO\n",
      "1: NO APLICA\n",
      "2: NO ESPECIFICADO\n",
      "3: SE IGNORA\n",
      "4: SI\n",
      "\n",
      "Valores para la columna 'afiliaciond':\n",
      "0: IMSS\n",
      "1: IMSS BIENESTAR\n",
      "2: ISSFAM\n",
      "3: ISSSTE\n",
      "4: NINGUNA\n",
      "5: NO ESPECIFICADO\n",
      "6: OTRA\n",
      "7: PEMEX\n",
      "8: SE IGNORA\n",
      "9: SEDENA\n",
      "10: SEGURO POPULAR / INSABI\n",
      "11: SEMAR\n",
      "\n",
      "Valores para la columna 'muerteaccidentalviolentad':\n",
      "0: NO\n",
      "1: SI\n",
      "\n"
     ]
    }
   ],
   "source": [
    "label_encoder = LabelEncoder()\n",
    "mapeo_valores = {}\n",
    "for columna in X_originales:\n",
    "    valores_originales = df[columna].unique()    \n",
    "    valores_codificados = label_encoder.fit_transform(valores_originales)\n",
    "    mapeo_columna = [(codificacion, original) for codificacion, original in zip(valores_codificados, valores_originales)]\n",
    "    mapeo_columna.sort(key=lambda x: x[0])\n",
    "    mapeo_valores[columna] = mapeo_columna\n",
    "\n",
    "for columna, mapeo in mapeo_valores.items():\n",
    "    print(f\"Valores para la columna '{columna}':\")\n",
    "    for codificacion, original in mapeo:\n",
    "        print(f\"{codificacion}: {original}\")\n",
    "    print()"
   ]
  },
  {
   "cell_type": "markdown",
   "id": "ac001b69",
   "metadata": {},
   "source": [
    "✅ Hacemos una pequeña comprobación:"
   ]
  },
  {
   "cell_type": "code",
   "execution_count": 642,
   "id": "b15d2b7a",
   "metadata": {},
   "outputs": [
    {
     "name": "stdout",
     "output_type": "stream",
     "text": [
      "                sexod  sexod_encoded\n",
      "1              HOMBRE              0\n",
      "0               MUJER              1\n",
      "3241  NO ESPECIFICADO              2\n",
      "5594        SE IGNORA              3\n"
     ]
    }
   ],
   "source": [
    "valores_unicos_conjuntos = df[['sexod', 'sexod_encoded']].drop_duplicates()\n",
    "valores_unicos_conjuntos = valores_unicos_conjuntos.sort_values(by='sexod_encoded')\n",
    "print(valores_unicos_conjuntos)"
   ]
  },
  {
   "cell_type": "markdown",
   "id": "5d5f4029",
   "metadata": {},
   "source": [
    "📌 __Conclusión del ejercicio:__ En resumen, al analizar las modas de las variables codificadas, podemos observar que la mayoría de las personas en el conjunto de datos son hombres, casados, con educación primaria completa, que actualmente no trabajan y están afiliados al IMSS. Estos resultados nos dan una idea de las características demográficas y socioeconómicas predominantes en la muestra, proporcionando información útil para entender la composición de la población representada en los datos."
   ]
  },
  {
   "cell_type": "markdown",
   "id": "5faf7c02",
   "metadata": {},
   "source": [
    "### Objetivo 2: Construir un algoritmo de Machine Learning de regresión lineal o polinomial."
   ]
  },
  {
   "cell_type": "markdown",
   "id": "ef49e499",
   "metadata": {},
   "source": [
    "#### 📌 Modelo de regresión lineal"
   ]
  },
  {
   "cell_type": "markdown",
   "id": "cad27b5f",
   "metadata": {},
   "source": [
    "💡 Para este ejercicio decidimos utilizar el 20% de los datos como conjunto de prueba para nuestro proyecto porque nuestro dataset es muy grande (90,117 filas) y tenemos datos suficientes para evaluar el rendimiento del modelo, sin comprometer demasiado el tamaño del conjunto de entrenamiento."
   ]
  },
  {
   "cell_type": "code",
   "execution_count": 643,
   "id": "9010a331",
   "metadata": {},
   "outputs": [],
   "source": [
    "x_lineal = df[['sexod_encoded', 'edad', 'estadoconyugald_encoded', 'escolaridadd_encoded', 'trabajaactualmented_encoded', 'afiliaciond_encoded']]\n",
    "y_lineal = df['muerteaccidentalviolentad_encoded']"
   ]
  },
  {
   "cell_type": "code",
   "execution_count": 644,
   "id": "01b5fc38",
   "metadata": {},
   "outputs": [
    {
     "name": "stdout",
     "output_type": "stream",
     "text": [
      "90117\n"
     ]
    }
   ],
   "source": [
    "print(df.shape[0])"
   ]
  },
  {
   "cell_type": "code",
   "execution_count": 645,
   "id": "a2c78b4b",
   "metadata": {},
   "outputs": [
    {
     "name": "stdout",
     "output_type": "stream",
     "text": [
      "(72093, 6)\n",
      "(18024, 6)\n",
      "(72093,)\n",
      "(18024,)\n"
     ]
    }
   ],
   "source": [
    "X_train, X_test, Y_train, Y_test = train_test_split(x_lineal, y_lineal, test_size=0.2, random_state=5)\n",
    "print(X_train.shape)\n",
    "print(X_test.shape)\n",
    "print(Y_train.shape)\n",
    "print(Y_test.shape)"
   ]
  },
  {
   "cell_type": "code",
   "execution_count": 646,
   "id": "50443940",
   "metadata": {},
   "outputs": [
    {
     "data": {
      "text/html": [
       "<style>#sk-container-id-13 {color: black;}#sk-container-id-13 pre{padding: 0;}#sk-container-id-13 div.sk-toggleable {background-color: white;}#sk-container-id-13 label.sk-toggleable__label {cursor: pointer;display: block;width: 100%;margin-bottom: 0;padding: 0.3em;box-sizing: border-box;text-align: center;}#sk-container-id-13 label.sk-toggleable__label-arrow:before {content: \"▸\";float: left;margin-right: 0.25em;color: #696969;}#sk-container-id-13 label.sk-toggleable__label-arrow:hover:before {color: black;}#sk-container-id-13 div.sk-estimator:hover label.sk-toggleable__label-arrow:before {color: black;}#sk-container-id-13 div.sk-toggleable__content {max-height: 0;max-width: 0;overflow: hidden;text-align: left;background-color: #f0f8ff;}#sk-container-id-13 div.sk-toggleable__content pre {margin: 0.2em;color: black;border-radius: 0.25em;background-color: #f0f8ff;}#sk-container-id-13 input.sk-toggleable__control:checked~div.sk-toggleable__content {max-height: 200px;max-width: 100%;overflow: auto;}#sk-container-id-13 input.sk-toggleable__control:checked~label.sk-toggleable__label-arrow:before {content: \"▾\";}#sk-container-id-13 div.sk-estimator input.sk-toggleable__control:checked~label.sk-toggleable__label {background-color: #d4ebff;}#sk-container-id-13 div.sk-label input.sk-toggleable__control:checked~label.sk-toggleable__label {background-color: #d4ebff;}#sk-container-id-13 input.sk-hidden--visually {border: 0;clip: rect(1px 1px 1px 1px);clip: rect(1px, 1px, 1px, 1px);height: 1px;margin: -1px;overflow: hidden;padding: 0;position: absolute;width: 1px;}#sk-container-id-13 div.sk-estimator {font-family: monospace;background-color: #f0f8ff;border: 1px dotted black;border-radius: 0.25em;box-sizing: border-box;margin-bottom: 0.5em;}#sk-container-id-13 div.sk-estimator:hover {background-color: #d4ebff;}#sk-container-id-13 div.sk-parallel-item::after {content: \"\";width: 100%;border-bottom: 1px solid gray;flex-grow: 1;}#sk-container-id-13 div.sk-label:hover label.sk-toggleable__label {background-color: #d4ebff;}#sk-container-id-13 div.sk-serial::before {content: \"\";position: absolute;border-left: 1px solid gray;box-sizing: border-box;top: 0;bottom: 0;left: 50%;z-index: 0;}#sk-container-id-13 div.sk-serial {display: flex;flex-direction: column;align-items: center;background-color: white;padding-right: 0.2em;padding-left: 0.2em;position: relative;}#sk-container-id-13 div.sk-item {position: relative;z-index: 1;}#sk-container-id-13 div.sk-parallel {display: flex;align-items: stretch;justify-content: center;background-color: white;position: relative;}#sk-container-id-13 div.sk-item::before, #sk-container-id-13 div.sk-parallel-item::before {content: \"\";position: absolute;border-left: 1px solid gray;box-sizing: border-box;top: 0;bottom: 0;left: 50%;z-index: -1;}#sk-container-id-13 div.sk-parallel-item {display: flex;flex-direction: column;z-index: 1;position: relative;background-color: white;}#sk-container-id-13 div.sk-parallel-item:first-child::after {align-self: flex-end;width: 50%;}#sk-container-id-13 div.sk-parallel-item:last-child::after {align-self: flex-start;width: 50%;}#sk-container-id-13 div.sk-parallel-item:only-child::after {width: 0;}#sk-container-id-13 div.sk-dashed-wrapped {border: 1px dashed gray;margin: 0 0.4em 0.5em 0.4em;box-sizing: border-box;padding-bottom: 0.4em;background-color: white;}#sk-container-id-13 div.sk-label label {font-family: monospace;font-weight: bold;display: inline-block;line-height: 1.2em;}#sk-container-id-13 div.sk-label-container {text-align: center;}#sk-container-id-13 div.sk-container {/* jupyter's `normalize.less` sets `[hidden] { display: none; }` but bootstrap.min.css set `[hidden] { display: none !important; }` so we also need the `!important` here to be able to override the default hidden behavior on the sphinx rendered scikit-learn.org. See: https://github.com/scikit-learn/scikit-learn/issues/21755 */display: inline-block !important;position: relative;}#sk-container-id-13 div.sk-text-repr-fallback {display: none;}</style><div id=\"sk-container-id-13\" class=\"sk-top-container\"><div class=\"sk-text-repr-fallback\"><pre>LinearRegression()</pre><b>In a Jupyter environment, please rerun this cell to show the HTML representation or trust the notebook. <br />On GitHub, the HTML representation is unable to render, please try loading this page with nbviewer.org.</b></div><div class=\"sk-container\" hidden><div class=\"sk-item\"><div class=\"sk-estimator sk-toggleable\"><input class=\"sk-toggleable__control sk-hidden--visually\" id=\"sk-estimator-id-13\" type=\"checkbox\" checked><label for=\"sk-estimator-id-13\" class=\"sk-toggleable__label sk-toggleable__label-arrow\">LinearRegression</label><div class=\"sk-toggleable__content\"><pre>LinearRegression()</pre></div></div></div></div></div>"
      ],
      "text/plain": [
       "LinearRegression()"
      ]
     },
     "execution_count": 646,
     "metadata": {},
     "output_type": "execute_result"
    }
   ],
   "source": [
    "lin_model = LinearRegression()\n",
    "lin_model.fit(X_train, Y_train)"
   ]
  },
  {
   "cell_type": "code",
   "execution_count": 647,
   "id": "a13715b1",
   "metadata": {},
   "outputs": [
    {
     "name": "stdout",
     "output_type": "stream",
     "text": [
      "Entrenamiento: MSE =0.07646082887368333\n",
      "Pruebas: MSE =0.07686226547298147\n"
     ]
    }
   ],
   "source": [
    "y_train_predict = lin_model.predict(X_train)\n",
    "MSE = mean_squared_error(Y_train,y_train_predict)\n",
    "print(\"Entrenamiento: MSE =\"+str(MSE))\n",
    "\n",
    "y_test_predict = lin_model.predict(X_test)\n",
    "MSE = (mean_squared_error(Y_test, y_test_predict))\n",
    "print(\"Pruebas: MSE =\"+str(MSE))"
   ]
  },
  {
   "cell_type": "markdown",
   "id": "fc66f8be",
   "metadata": {},
   "source": [
    "📙 El MSE toma las diferencias entre cada predicción y su valor real, las eleva al cuadrado para eliminar el signo y luego calcula el promedio de estas diferencias cuadráticas."
   ]
  },
  {
   "cell_type": "markdown",
   "id": "0634047a",
   "metadata": {},
   "source": [
    "💡 Un MSE de 0.0764 para el conjunto de entrenamiento y 0.0769 para el conjunto de prueba son valores bajos, lo que nos sugiere que el modelo de regresión lineal está haciendo buenas predicciones en ambos conjuntos de datos. Además, los valores de MSE son cercanos entre sí, lo que indica que el modelo no parece estar sobreajustando o subajustando significativamente los datos."
   ]
  },
  {
   "cell_type": "code",
   "execution_count": 648,
   "id": "1c224543",
   "metadata": {},
   "outputs": [
    {
     "name": "stdout",
     "output_type": "stream",
     "text": [
      "   valor_real  prediccion  diferencia\n",
      "0           0    0.056050   -0.056050\n",
      "1           0    0.061509   -0.061509\n",
      "2           0   -0.008444    0.008444\n",
      "3           0    0.099496   -0.099496\n",
      "4           0    0.022011   -0.022011\n",
      "5           0   -0.009712    0.009712\n",
      "6           0    0.029263   -0.029263\n",
      "7           0    0.142143   -0.142143\n",
      "8           0    0.064785   -0.064785\n",
      "9           0    0.380426   -0.380426\n"
     ]
    }
   ],
   "source": [
    "df_predicciones = pd.DataFrame({'valor_real':Y_test, 'prediccion':y_test_predict, 'diferencia':Y_test-y_test_predict})\n",
    "df_predicciones = df_predicciones.reset_index(drop = True)\n",
    "print(df_predicciones.head(10))"
   ]
  },
  {
   "cell_type": "markdown",
   "id": "8d44039c",
   "metadata": {},
   "source": [
    "💡 Los resultados de nuestro modelo muestran que, en general, está haciendo predicciones bastante cercanas a los valores reales. Esto nos hace creer que nuestro modelo es capaz de detectar ciertos patrones en los datos y hacer buenas estimaciones sobre la variable objetivo."
   ]
  },
  {
   "cell_type": "markdown",
   "id": "f1c672ea",
   "metadata": {},
   "source": [
    "💡 Para este proyecto tenemos mayormente datos categoricos y la naturaleza de las variables categóricas generalmente no permite que se establezca una relación lineal o polinomial entre ellas. Esto porque cuando usamos una regresión lineal o polinomial, el algoritmo asume que hay una relación numérica entre las características. Incluso después de convertir las variables categóricas en valores numéricos, no hay un orden inherente entre las categorías, pero aún así haremos el ejercicio para poner en práctica los modelos."
   ]
  },
  {
   "cell_type": "markdown",
   "id": "a363eaa2",
   "metadata": {},
   "source": [
    "#### 📌 Modelo de regresión polinominal"
   ]
  },
  {
   "cell_type": "markdown",
   "id": "1cffd43e",
   "metadata": {},
   "source": [
    "✅ Para el modelo de regresión polinominal hicimos un cambio para utilizar variables continuas como 'edad' y 'timestamp'."
   ]
  },
  {
   "cell_type": "code",
   "execution_count": 649,
   "id": "e3e38bb2",
   "metadata": {},
   "outputs": [],
   "source": [
    "df['year'] = df['Timestamp'].dt.year\n",
    "df['month'] = df['Timestamp'].dt.month\n",
    "df['day'] = df['Timestamp'].dt.day\n",
    "df['hour'] = df['Timestamp'].dt.hour"
   ]
  },
  {
   "cell_type": "code",
   "execution_count": 650,
   "id": "83b08950",
   "metadata": {},
   "outputs": [],
   "source": [
    "x_poli = df[['edad', 'year', 'month', 'day', 'hour']]\n",
    "y_poli = df['muerteaccidentalviolentad_encoded']"
   ]
  },
  {
   "cell_type": "code",
   "execution_count": 651,
   "id": "36f65adb",
   "metadata": {},
   "outputs": [],
   "source": [
    "X_train, X_test, Y_train, Y_test = train_test_split(x_poli, y_poli, test_size = 0.2, random_state=5)"
   ]
  },
  {
   "cell_type": "markdown",
   "id": "d9cd822f",
   "metadata": {},
   "source": [
    "✅ Obtuvimos un error así que usamos un imputador para reemplazar los valores faltantes por la media."
   ]
  },
  {
   "cell_type": "code",
   "execution_count": 652,
   "id": "f4c711ad",
   "metadata": {},
   "outputs": [],
   "source": [
    "imputer = SimpleImputer(strategy='mean')\n",
    "X_train_imputed = imputer.fit_transform(X_train)\n",
    "X_test_imputed = imputer.transform(X_test)"
   ]
  },
  {
   "cell_type": "code",
   "execution_count": 653,
   "id": "1f5bace8",
   "metadata": {},
   "outputs": [],
   "source": [
    "poly = PolynomialFeatures(degree=2)"
   ]
  },
  {
   "cell_type": "code",
   "execution_count": 654,
   "id": "12e20f86",
   "metadata": {},
   "outputs": [],
   "source": [
    "Xpolytrain = poly.fit_transform(X_train_imputed)\n",
    "Xpolytest = poly.transform(X_test_imputed)"
   ]
  },
  {
   "cell_type": "code",
   "execution_count": 655,
   "id": "497eb689",
   "metadata": {},
   "outputs": [],
   "source": [
    "poly_model = LinearRegression()"
   ]
  },
  {
   "cell_type": "code",
   "execution_count": 656,
   "id": "d46c589a",
   "metadata": {},
   "outputs": [],
   "source": [
    "poly_model.fit(Xpolytrain, Y_train)\n",
    "y_train_predict = poly_model.predict(Xpolytrain)"
   ]
  },
  {
   "cell_type": "code",
   "execution_count": 657,
   "id": "eb72ee02",
   "metadata": {},
   "outputs": [
    {
     "name": "stdout",
     "output_type": "stream",
     "text": [
      "Entrenamiento: MSE = 0.07377977492788479\n",
      "Pruebas: MSE = 0.07385987321085283\n"
     ]
    }
   ],
   "source": [
    "MSE_train = mean_squared_error(Y_train, y_train_predict)\n",
    "print(\"Entrenamiento: MSE =\", MSE_train)\n",
    "y_test_predict = poly_model.predict(Xpolytest)\n",
    "MSE_test = mean_squared_error(Y_test, y_test_predict)\n",
    "print(\"Pruebas: MSE =\", MSE_test)"
   ]
  },
  {
   "cell_type": "code",
   "execution_count": 658,
   "id": "b181b613",
   "metadata": {},
   "outputs": [
    {
     "data": {
      "text/html": [
       "<div>\n",
       "<style scoped>\n",
       "    .dataframe tbody tr th:only-of-type {\n",
       "        vertical-align: middle;\n",
       "    }\n",
       "\n",
       "    .dataframe tbody tr th {\n",
       "        vertical-align: top;\n",
       "    }\n",
       "\n",
       "    .dataframe thead th {\n",
       "        text-align: right;\n",
       "    }\n",
       "</style>\n",
       "<table border=\"1\" class=\"dataframe\">\n",
       "  <thead>\n",
       "    <tr style=\"text-align: right;\">\n",
       "      <th></th>\n",
       "      <th>valor_real</th>\n",
       "      <th>prediccion</th>\n",
       "      <th>diferencia</th>\n",
       "    </tr>\n",
       "  </thead>\n",
       "  <tbody>\n",
       "    <tr>\n",
       "      <th>0</th>\n",
       "      <td>0</td>\n",
       "      <td>-0.063561</td>\n",
       "      <td>0.063561</td>\n",
       "    </tr>\n",
       "    <tr>\n",
       "      <th>1</th>\n",
       "      <td>0</td>\n",
       "      <td>0.024549</td>\n",
       "      <td>-0.024549</td>\n",
       "    </tr>\n",
       "    <tr>\n",
       "      <th>2</th>\n",
       "      <td>0</td>\n",
       "      <td>0.038505</td>\n",
       "      <td>-0.038505</td>\n",
       "    </tr>\n",
       "    <tr>\n",
       "      <th>3</th>\n",
       "      <td>0</td>\n",
       "      <td>-0.014687</td>\n",
       "      <td>0.014687</td>\n",
       "    </tr>\n",
       "    <tr>\n",
       "      <th>4</th>\n",
       "      <td>0</td>\n",
       "      <td>0.160952</td>\n",
       "      <td>-0.160952</td>\n",
       "    </tr>\n",
       "    <tr>\n",
       "      <th>5</th>\n",
       "      <td>0</td>\n",
       "      <td>-0.039242</td>\n",
       "      <td>0.039242</td>\n",
       "    </tr>\n",
       "    <tr>\n",
       "      <th>6</th>\n",
       "      <td>0</td>\n",
       "      <td>0.277196</td>\n",
       "      <td>-0.277196</td>\n",
       "    </tr>\n",
       "    <tr>\n",
       "      <th>7</th>\n",
       "      <td>0</td>\n",
       "      <td>0.421899</td>\n",
       "      <td>-0.421899</td>\n",
       "    </tr>\n",
       "    <tr>\n",
       "      <th>8</th>\n",
       "      <td>0</td>\n",
       "      <td>0.056554</td>\n",
       "      <td>-0.056554</td>\n",
       "    </tr>\n",
       "    <tr>\n",
       "      <th>9</th>\n",
       "      <td>0</td>\n",
       "      <td>0.222986</td>\n",
       "      <td>-0.222986</td>\n",
       "    </tr>\n",
       "  </tbody>\n",
       "</table>\n",
       "</div>"
      ],
      "text/plain": [
       "   valor_real  prediccion  diferencia\n",
       "0           0   -0.063561    0.063561\n",
       "1           0    0.024549   -0.024549\n",
       "2           0    0.038505   -0.038505\n",
       "3           0   -0.014687    0.014687\n",
       "4           0    0.160952   -0.160952\n",
       "5           0   -0.039242    0.039242\n",
       "6           0    0.277196   -0.277196\n",
       "7           0    0.421899   -0.421899\n",
       "8           0    0.056554   -0.056554\n",
       "9           0    0.222986   -0.222986"
      ]
     },
     "execution_count": 658,
     "metadata": {},
     "output_type": "execute_result"
    }
   ],
   "source": [
    "df_predicciones = pd.DataFrame({'valor_real': Y_test, 'prediccion': y_test_predict, 'diferencia': Y_test - y_test_predict})\n",
    "df_predicciones = df_predicciones.reset_index(drop=True)\n",
    "df_predicciones.head(10)"
   ]
  },
  {
   "cell_type": "markdown",
   "id": "8691e52f",
   "metadata": {},
   "source": [
    "💡 Al revisar los resultados de nuestro modelo de regresión polinomial, notamos que las predicciones se acercan en su mayoría a los valores reales, aunque hay algunos casos donde la diferencia es considerable por lo que habría que mejorar el modelo o investigar más a fondo."
   ]
  },
  {
   "cell_type": "markdown",
   "id": "0921595e",
   "metadata": {},
   "source": [
    "📙 El coeficiente de determinación (R^2), es una medida estadística que  sirve para entender cuánta variación en la variable dependiente puede ser explicada por las variables independientes en el modelo."
   ]
  },
  {
   "cell_type": "markdown",
   "id": "ff8cb365",
   "metadata": {},
   "source": [
    "✅ Decidimos calcular el coeficiente de determinación (R^2) para obtener sobre la calidad del ajuste de un modelo de regresión a los datos observados."
   ]
  },
  {
   "cell_type": "code",
   "execution_count": 659,
   "id": "5df48f27",
   "metadata": {},
   "outputs": [
    {
     "name": "stdout",
     "output_type": "stream",
     "text": [
      "Entrenamiento: R^2 = 0.18888245073788823\n",
      "Pruebas: R^2 = 0.18399913776197263\n"
     ]
    }
   ],
   "source": [
    "r2_train = r2_score(Y_train, y_train_predict)\n",
    "print(\"Entrenamiento: R^2 =\", r2_train)\n",
    "\n",
    "r2_test = r2_score(Y_test, y_test_predict)\n",
    "print(\"Pruebas: R^2 =\", r2_test)"
   ]
  },
  {
   "cell_type": "markdown",
   "id": "72a29789",
   "metadata": {},
   "source": [
    "💡 Al revisar los resultados de nuestro modelo de regresión polinomial, observamos que el coeficiente de determinación (R^2) para el conjunto de entrenamiento es aproximadamente 0.189, mientras que para el conjunto de pruebas es cerca de 0.184. Estos valores indican que nuestro modelo es capaz de explicar aproximadamente el 18.9% de la variabilidad en los datos en el conjunto de entrenamiento y el 18.4% en el conjunto de pruebas."
   ]
  },
  {
   "cell_type": "code",
   "execution_count": null,
   "id": "f1a9b2d3",
   "metadata": {},
   "outputs": [],
   "source": []
  }
 ],
 "metadata": {
  "kernelspec": {
   "display_name": "Python 3 (ipykernel)",
   "language": "python",
   "name": "python3"
  },
  "language_info": {
   "codemirror_mode": {
    "name": "ipython",
    "version": 3
   },
   "file_extension": ".py",
   "mimetype": "text/x-python",
   "name": "python",
   "nbconvert_exporter": "python",
   "pygments_lexer": "ipython3",
   "version": "3.11.5"
  }
 },
 "nbformat": 4,
 "nbformat_minor": 5
}
